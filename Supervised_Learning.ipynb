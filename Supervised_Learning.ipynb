{
 "cells": [
  {
   "cell_type": "markdown",
   "metadata": {},
   "source": [
    "# Saving Beta Bank: Predicting Customer Churn with Machine Learning\n",
    "## Project Overview & Objective\n",
    "Recently, Beta Bank has been gradually losing customers, which has a negative financial impact on the bank.  Given the costs associated with new account creation, it is much more economically viable to maintain existing customers than try to acquire new ones.\n",
    "\n",
    "This project will create a machine learning model that predicts the likelihood that a customer will leave the bank soon based on data for current and former clients.  The model will be considered reliable upon achieving an F1 score of 0.59 or better, as this score indicates that the model is predicting classes without a high number of false negatives or false positives.  Beta Bank can use this model to effectively predict which customers are likely to leave to deploy targeted client retention strategies aimed at those customers.\n",
    "\n",
    "## Data Description & Preparation"
   ]
  },
  {
   "cell_type": "code",
   "execution_count": 3,
   "metadata": {},
   "outputs": [],
   "source": [
    "import pandas as pd\n",
    "import numpy as np\n",
    "from sklearn.model_selection import train_test_split\n",
    "from sklearn.tree import DecisionTreeClassifier\n",
    "from sklearn.ensemble import RandomForestClassifier\n",
    "from sklearn.linear_model import LogisticRegression\n",
    "from sklearn.metrics import f1_score, roc_auc_score, accuracy_score\n",
    "import matplotlib.pyplot as plt\n",
    "from sklearn.utils import shuffle\n",
    "from sklearn.preprocessing import StandardScaler"
   ]
  },
  {
   "cell_type": "code",
   "execution_count": 4,
   "metadata": {},
   "outputs": [
    {
     "data": {
      "text/html": [
       "<div>\n",
       "<style scoped>\n",
       "    .dataframe tbody tr th:only-of-type {\n",
       "        vertical-align: middle;\n",
       "    }\n",
       "\n",
       "    .dataframe tbody tr th {\n",
       "        vertical-align: top;\n",
       "    }\n",
       "\n",
       "    .dataframe thead th {\n",
       "        text-align: right;\n",
       "    }\n",
       "</style>\n",
       "<table border=\"1\" class=\"dataframe\">\n",
       "  <thead>\n",
       "    <tr style=\"text-align: right;\">\n",
       "      <th></th>\n",
       "      <th>RowNumber</th>\n",
       "      <th>CustomerId</th>\n",
       "      <th>Surname</th>\n",
       "      <th>CreditScore</th>\n",
       "      <th>Geography</th>\n",
       "      <th>Gender</th>\n",
       "      <th>Age</th>\n",
       "      <th>Tenure</th>\n",
       "      <th>Balance</th>\n",
       "      <th>NumOfProducts</th>\n",
       "      <th>HasCrCard</th>\n",
       "      <th>IsActiveMember</th>\n",
       "      <th>EstimatedSalary</th>\n",
       "      <th>Exited</th>\n",
       "    </tr>\n",
       "  </thead>\n",
       "  <tbody>\n",
       "    <tr>\n",
       "      <th>0</th>\n",
       "      <td>1</td>\n",
       "      <td>15634602</td>\n",
       "      <td>Hargrave</td>\n",
       "      <td>619</td>\n",
       "      <td>France</td>\n",
       "      <td>Female</td>\n",
       "      <td>42</td>\n",
       "      <td>2.0</td>\n",
       "      <td>0.00</td>\n",
       "      <td>1</td>\n",
       "      <td>1</td>\n",
       "      <td>1</td>\n",
       "      <td>101348.88</td>\n",
       "      <td>1</td>\n",
       "    </tr>\n",
       "    <tr>\n",
       "      <th>1</th>\n",
       "      <td>2</td>\n",
       "      <td>15647311</td>\n",
       "      <td>Hill</td>\n",
       "      <td>608</td>\n",
       "      <td>Spain</td>\n",
       "      <td>Female</td>\n",
       "      <td>41</td>\n",
       "      <td>1.0</td>\n",
       "      <td>83807.86</td>\n",
       "      <td>1</td>\n",
       "      <td>0</td>\n",
       "      <td>1</td>\n",
       "      <td>112542.58</td>\n",
       "      <td>0</td>\n",
       "    </tr>\n",
       "    <tr>\n",
       "      <th>2</th>\n",
       "      <td>3</td>\n",
       "      <td>15619304</td>\n",
       "      <td>Onio</td>\n",
       "      <td>502</td>\n",
       "      <td>France</td>\n",
       "      <td>Female</td>\n",
       "      <td>42</td>\n",
       "      <td>8.0</td>\n",
       "      <td>159660.80</td>\n",
       "      <td>3</td>\n",
       "      <td>1</td>\n",
       "      <td>0</td>\n",
       "      <td>113931.57</td>\n",
       "      <td>1</td>\n",
       "    </tr>\n",
       "    <tr>\n",
       "      <th>3</th>\n",
       "      <td>4</td>\n",
       "      <td>15701354</td>\n",
       "      <td>Boni</td>\n",
       "      <td>699</td>\n",
       "      <td>France</td>\n",
       "      <td>Female</td>\n",
       "      <td>39</td>\n",
       "      <td>1.0</td>\n",
       "      <td>0.00</td>\n",
       "      <td>2</td>\n",
       "      <td>0</td>\n",
       "      <td>0</td>\n",
       "      <td>93826.63</td>\n",
       "      <td>0</td>\n",
       "    </tr>\n",
       "    <tr>\n",
       "      <th>4</th>\n",
       "      <td>5</td>\n",
       "      <td>15737888</td>\n",
       "      <td>Mitchell</td>\n",
       "      <td>850</td>\n",
       "      <td>Spain</td>\n",
       "      <td>Female</td>\n",
       "      <td>43</td>\n",
       "      <td>2.0</td>\n",
       "      <td>125510.82</td>\n",
       "      <td>1</td>\n",
       "      <td>1</td>\n",
       "      <td>1</td>\n",
       "      <td>79084.10</td>\n",
       "      <td>0</td>\n",
       "    </tr>\n",
       "    <tr>\n",
       "      <th>...</th>\n",
       "      <td>...</td>\n",
       "      <td>...</td>\n",
       "      <td>...</td>\n",
       "      <td>...</td>\n",
       "      <td>...</td>\n",
       "      <td>...</td>\n",
       "      <td>...</td>\n",
       "      <td>...</td>\n",
       "      <td>...</td>\n",
       "      <td>...</td>\n",
       "      <td>...</td>\n",
       "      <td>...</td>\n",
       "      <td>...</td>\n",
       "      <td>...</td>\n",
       "    </tr>\n",
       "    <tr>\n",
       "      <th>9995</th>\n",
       "      <td>9996</td>\n",
       "      <td>15606229</td>\n",
       "      <td>Obijiaku</td>\n",
       "      <td>771</td>\n",
       "      <td>France</td>\n",
       "      <td>Male</td>\n",
       "      <td>39</td>\n",
       "      <td>5.0</td>\n",
       "      <td>0.00</td>\n",
       "      <td>2</td>\n",
       "      <td>1</td>\n",
       "      <td>0</td>\n",
       "      <td>96270.64</td>\n",
       "      <td>0</td>\n",
       "    </tr>\n",
       "    <tr>\n",
       "      <th>9996</th>\n",
       "      <td>9997</td>\n",
       "      <td>15569892</td>\n",
       "      <td>Johnstone</td>\n",
       "      <td>516</td>\n",
       "      <td>France</td>\n",
       "      <td>Male</td>\n",
       "      <td>35</td>\n",
       "      <td>10.0</td>\n",
       "      <td>57369.61</td>\n",
       "      <td>1</td>\n",
       "      <td>1</td>\n",
       "      <td>1</td>\n",
       "      <td>101699.77</td>\n",
       "      <td>0</td>\n",
       "    </tr>\n",
       "    <tr>\n",
       "      <th>9997</th>\n",
       "      <td>9998</td>\n",
       "      <td>15584532</td>\n",
       "      <td>Liu</td>\n",
       "      <td>709</td>\n",
       "      <td>France</td>\n",
       "      <td>Female</td>\n",
       "      <td>36</td>\n",
       "      <td>7.0</td>\n",
       "      <td>0.00</td>\n",
       "      <td>1</td>\n",
       "      <td>0</td>\n",
       "      <td>1</td>\n",
       "      <td>42085.58</td>\n",
       "      <td>1</td>\n",
       "    </tr>\n",
       "    <tr>\n",
       "      <th>9998</th>\n",
       "      <td>9999</td>\n",
       "      <td>15682355</td>\n",
       "      <td>Sabbatini</td>\n",
       "      <td>772</td>\n",
       "      <td>Germany</td>\n",
       "      <td>Male</td>\n",
       "      <td>42</td>\n",
       "      <td>3.0</td>\n",
       "      <td>75075.31</td>\n",
       "      <td>2</td>\n",
       "      <td>1</td>\n",
       "      <td>0</td>\n",
       "      <td>92888.52</td>\n",
       "      <td>1</td>\n",
       "    </tr>\n",
       "    <tr>\n",
       "      <th>9999</th>\n",
       "      <td>10000</td>\n",
       "      <td>15628319</td>\n",
       "      <td>Walker</td>\n",
       "      <td>792</td>\n",
       "      <td>France</td>\n",
       "      <td>Female</td>\n",
       "      <td>28</td>\n",
       "      <td>NaN</td>\n",
       "      <td>130142.79</td>\n",
       "      <td>1</td>\n",
       "      <td>1</td>\n",
       "      <td>0</td>\n",
       "      <td>38190.78</td>\n",
       "      <td>0</td>\n",
       "    </tr>\n",
       "  </tbody>\n",
       "</table>\n",
       "<p>10000 rows × 14 columns</p>\n",
       "</div>"
      ],
      "text/plain": [
       "      RowNumber  CustomerId    Surname  CreditScore Geography  Gender  Age  \\\n",
       "0             1    15634602   Hargrave          619    France  Female   42   \n",
       "1             2    15647311       Hill          608     Spain  Female   41   \n",
       "2             3    15619304       Onio          502    France  Female   42   \n",
       "3             4    15701354       Boni          699    France  Female   39   \n",
       "4             5    15737888   Mitchell          850     Spain  Female   43   \n",
       "...         ...         ...        ...          ...       ...     ...  ...   \n",
       "9995       9996    15606229   Obijiaku          771    France    Male   39   \n",
       "9996       9997    15569892  Johnstone          516    France    Male   35   \n",
       "9997       9998    15584532        Liu          709    France  Female   36   \n",
       "9998       9999    15682355  Sabbatini          772   Germany    Male   42   \n",
       "9999      10000    15628319     Walker          792    France  Female   28   \n",
       "\n",
       "      Tenure    Balance  NumOfProducts  HasCrCard  IsActiveMember  \\\n",
       "0        2.0       0.00              1          1               1   \n",
       "1        1.0   83807.86              1          0               1   \n",
       "2        8.0  159660.80              3          1               0   \n",
       "3        1.0       0.00              2          0               0   \n",
       "4        2.0  125510.82              1          1               1   \n",
       "...      ...        ...            ...        ...             ...   \n",
       "9995     5.0       0.00              2          1               0   \n",
       "9996    10.0   57369.61              1          1               1   \n",
       "9997     7.0       0.00              1          0               1   \n",
       "9998     3.0   75075.31              2          1               0   \n",
       "9999     NaN  130142.79              1          1               0   \n",
       "\n",
       "      EstimatedSalary  Exited  \n",
       "0           101348.88       1  \n",
       "1           112542.58       0  \n",
       "2           113931.57       1  \n",
       "3            93826.63       0  \n",
       "4            79084.10       0  \n",
       "...               ...     ...  \n",
       "9995         96270.64       0  \n",
       "9996        101699.77       0  \n",
       "9997         42085.58       1  \n",
       "9998         92888.52       1  \n",
       "9999         38190.78       0  \n",
       "\n",
       "[10000 rows x 14 columns]"
      ]
     },
     "execution_count": 4,
     "metadata": {},
     "output_type": "execute_result"
    }
   ],
   "source": [
    "customers = pd.read_csv('/datasets/Churn.csv')\n",
    "customers"
   ]
  },
  {
   "cell_type": "code",
   "execution_count": 5,
   "metadata": {},
   "outputs": [
    {
     "data": {
      "text/html": [
       "<div>\n",
       "<style scoped>\n",
       "    .dataframe tbody tr th:only-of-type {\n",
       "        vertical-align: middle;\n",
       "    }\n",
       "\n",
       "    .dataframe tbody tr th {\n",
       "        vertical-align: top;\n",
       "    }\n",
       "\n",
       "    .dataframe thead th {\n",
       "        text-align: right;\n",
       "    }\n",
       "</style>\n",
       "<table border=\"1\" class=\"dataframe\">\n",
       "  <thead>\n",
       "    <tr style=\"text-align: right;\">\n",
       "      <th></th>\n",
       "      <th>RowNumber</th>\n",
       "      <th>CustomerId</th>\n",
       "      <th>CreditScore</th>\n",
       "      <th>Age</th>\n",
       "      <th>Tenure</th>\n",
       "      <th>Balance</th>\n",
       "      <th>NumOfProducts</th>\n",
       "      <th>HasCrCard</th>\n",
       "      <th>IsActiveMember</th>\n",
       "      <th>EstimatedSalary</th>\n",
       "      <th>Exited</th>\n",
       "    </tr>\n",
       "  </thead>\n",
       "  <tbody>\n",
       "    <tr>\n",
       "      <th>count</th>\n",
       "      <td>10000.00000</td>\n",
       "      <td>1.000000e+04</td>\n",
       "      <td>10000.000000</td>\n",
       "      <td>10000.000000</td>\n",
       "      <td>9091.000000</td>\n",
       "      <td>10000.000000</td>\n",
       "      <td>10000.000000</td>\n",
       "      <td>10000.00000</td>\n",
       "      <td>10000.000000</td>\n",
       "      <td>10000.000000</td>\n",
       "      <td>10000.000000</td>\n",
       "    </tr>\n",
       "    <tr>\n",
       "      <th>mean</th>\n",
       "      <td>5000.50000</td>\n",
       "      <td>1.569094e+07</td>\n",
       "      <td>650.528800</td>\n",
       "      <td>38.921800</td>\n",
       "      <td>4.997690</td>\n",
       "      <td>76485.889288</td>\n",
       "      <td>1.530200</td>\n",
       "      <td>0.70550</td>\n",
       "      <td>0.515100</td>\n",
       "      <td>100090.239881</td>\n",
       "      <td>0.203700</td>\n",
       "    </tr>\n",
       "    <tr>\n",
       "      <th>std</th>\n",
       "      <td>2886.89568</td>\n",
       "      <td>7.193619e+04</td>\n",
       "      <td>96.653299</td>\n",
       "      <td>10.487806</td>\n",
       "      <td>2.894723</td>\n",
       "      <td>62397.405202</td>\n",
       "      <td>0.581654</td>\n",
       "      <td>0.45584</td>\n",
       "      <td>0.499797</td>\n",
       "      <td>57510.492818</td>\n",
       "      <td>0.402769</td>\n",
       "    </tr>\n",
       "    <tr>\n",
       "      <th>min</th>\n",
       "      <td>1.00000</td>\n",
       "      <td>1.556570e+07</td>\n",
       "      <td>350.000000</td>\n",
       "      <td>18.000000</td>\n",
       "      <td>0.000000</td>\n",
       "      <td>0.000000</td>\n",
       "      <td>1.000000</td>\n",
       "      <td>0.00000</td>\n",
       "      <td>0.000000</td>\n",
       "      <td>11.580000</td>\n",
       "      <td>0.000000</td>\n",
       "    </tr>\n",
       "    <tr>\n",
       "      <th>25%</th>\n",
       "      <td>2500.75000</td>\n",
       "      <td>1.562853e+07</td>\n",
       "      <td>584.000000</td>\n",
       "      <td>32.000000</td>\n",
       "      <td>2.000000</td>\n",
       "      <td>0.000000</td>\n",
       "      <td>1.000000</td>\n",
       "      <td>0.00000</td>\n",
       "      <td>0.000000</td>\n",
       "      <td>51002.110000</td>\n",
       "      <td>0.000000</td>\n",
       "    </tr>\n",
       "    <tr>\n",
       "      <th>50%</th>\n",
       "      <td>5000.50000</td>\n",
       "      <td>1.569074e+07</td>\n",
       "      <td>652.000000</td>\n",
       "      <td>37.000000</td>\n",
       "      <td>5.000000</td>\n",
       "      <td>97198.540000</td>\n",
       "      <td>1.000000</td>\n",
       "      <td>1.00000</td>\n",
       "      <td>1.000000</td>\n",
       "      <td>100193.915000</td>\n",
       "      <td>0.000000</td>\n",
       "    </tr>\n",
       "    <tr>\n",
       "      <th>75%</th>\n",
       "      <td>7500.25000</td>\n",
       "      <td>1.575323e+07</td>\n",
       "      <td>718.000000</td>\n",
       "      <td>44.000000</td>\n",
       "      <td>7.000000</td>\n",
       "      <td>127644.240000</td>\n",
       "      <td>2.000000</td>\n",
       "      <td>1.00000</td>\n",
       "      <td>1.000000</td>\n",
       "      <td>149388.247500</td>\n",
       "      <td>0.000000</td>\n",
       "    </tr>\n",
       "    <tr>\n",
       "      <th>max</th>\n",
       "      <td>10000.00000</td>\n",
       "      <td>1.581569e+07</td>\n",
       "      <td>850.000000</td>\n",
       "      <td>92.000000</td>\n",
       "      <td>10.000000</td>\n",
       "      <td>250898.090000</td>\n",
       "      <td>4.000000</td>\n",
       "      <td>1.00000</td>\n",
       "      <td>1.000000</td>\n",
       "      <td>199992.480000</td>\n",
       "      <td>1.000000</td>\n",
       "    </tr>\n",
       "  </tbody>\n",
       "</table>\n",
       "</div>"
      ],
      "text/plain": [
       "         RowNumber    CustomerId   CreditScore           Age       Tenure  \\\n",
       "count  10000.00000  1.000000e+04  10000.000000  10000.000000  9091.000000   \n",
       "mean    5000.50000  1.569094e+07    650.528800     38.921800     4.997690   \n",
       "std     2886.89568  7.193619e+04     96.653299     10.487806     2.894723   \n",
       "min        1.00000  1.556570e+07    350.000000     18.000000     0.000000   \n",
       "25%     2500.75000  1.562853e+07    584.000000     32.000000     2.000000   \n",
       "50%     5000.50000  1.569074e+07    652.000000     37.000000     5.000000   \n",
       "75%     7500.25000  1.575323e+07    718.000000     44.000000     7.000000   \n",
       "max    10000.00000  1.581569e+07    850.000000     92.000000    10.000000   \n",
       "\n",
       "             Balance  NumOfProducts    HasCrCard  IsActiveMember  \\\n",
       "count   10000.000000   10000.000000  10000.00000    10000.000000   \n",
       "mean    76485.889288       1.530200      0.70550        0.515100   \n",
       "std     62397.405202       0.581654      0.45584        0.499797   \n",
       "min         0.000000       1.000000      0.00000        0.000000   \n",
       "25%         0.000000       1.000000      0.00000        0.000000   \n",
       "50%     97198.540000       1.000000      1.00000        1.000000   \n",
       "75%    127644.240000       2.000000      1.00000        1.000000   \n",
       "max    250898.090000       4.000000      1.00000        1.000000   \n",
       "\n",
       "       EstimatedSalary        Exited  \n",
       "count     10000.000000  10000.000000  \n",
       "mean     100090.239881      0.203700  \n",
       "std       57510.492818      0.402769  \n",
       "min          11.580000      0.000000  \n",
       "25%       51002.110000      0.000000  \n",
       "50%      100193.915000      0.000000  \n",
       "75%      149388.247500      0.000000  \n",
       "max      199992.480000      1.000000  "
      ]
     },
     "execution_count": 5,
     "metadata": {},
     "output_type": "execute_result"
    }
   ],
   "source": [
    "customers.describe()"
   ]
  },
  {
   "cell_type": "code",
   "execution_count": 6,
   "metadata": {},
   "outputs": [
    {
     "name": "stdout",
     "output_type": "stream",
     "text": [
      "<class 'pandas.core.frame.DataFrame'>\n",
      "RangeIndex: 10000 entries, 0 to 9999\n",
      "Data columns (total 14 columns):\n",
      " #   Column           Non-Null Count  Dtype  \n",
      "---  ------           --------------  -----  \n",
      " 0   RowNumber        10000 non-null  int64  \n",
      " 1   CustomerId       10000 non-null  int64  \n",
      " 2   Surname          10000 non-null  object \n",
      " 3   CreditScore      10000 non-null  int64  \n",
      " 4   Geography        10000 non-null  object \n",
      " 5   Gender           10000 non-null  object \n",
      " 6   Age              10000 non-null  int64  \n",
      " 7   Tenure           9091 non-null   float64\n",
      " 8   Balance          10000 non-null  float64\n",
      " 9   NumOfProducts    10000 non-null  int64  \n",
      " 10  HasCrCard        10000 non-null  int64  \n",
      " 11  IsActiveMember   10000 non-null  int64  \n",
      " 12  EstimatedSalary  10000 non-null  float64\n",
      " 13  Exited           10000 non-null  int64  \n",
      "dtypes: float64(3), int64(8), object(3)\n",
      "memory usage: 1.1+ MB\n"
     ]
    }
   ],
   "source": [
    "customers.info()"
   ]
  },
  {
   "cell_type": "markdown",
   "metadata": {},
   "source": [
    "The data set contains data on 10,000 customers of Beta Bank.  Specifically, the data contains their unique customer id, surname, credit score, country (geography), gender, age, period of maturation for their account's fixed deposit (tenure), account balance, number of products, whether or not they have a credit card from the bank, whether or not they are considered an active member, their estimated salary, and whether or not they've left the bank. All data is intact with the exception of some missing data in the tenure field, which I will need to investigate further.  Data is primarily numerical, though the data for surnames, geography, and gender are object data type.  Geography and Gender I will convert to numerical via One-Hot Encoding so that these data are factored by the algorithm.  Customer ID, Surname, Row Number do not have an impact on whether or not a customer leaves the bank, so I will drop the columns as the information they contain is not needed for building a model.\n",
    "\n",
    "Customers of the bank have credit scores that fall across the board, but the average is a fair score of 650.  Customers range from 18 to 92, though the average customer is in their late 30s.  Accounts have various maturation periods from 0 to 10 years with an mean period of 5 years.  Account balances range from 0 to over 250k dollars with the average account having around 76k dollars.  However, given 20 percent of accounts have been cancelled, that number skews a bit low.  The median of 97k dollars is more representative.  This is not too surprising given the average customer makes an estimated 100k dollars per year, though one unfortunate customer reports an annual income of 11 dollars.  Customers have anywhere from 1 to 4 products, though most customers have 1-2.  70 percent of customers have credit cards, but only 52 percent of customers are active users... yikes!  Of all the customers in the data set 20 percent have already left.  Since this is a pressing issue for the bank's future, let's move on."
   ]
  },
  {
   "cell_type": "code",
   "execution_count": 7,
   "metadata": {},
   "outputs": [],
   "source": [
    "#changing column headers to lowercase to simplify further analysis\n",
    "customers.columns = map(str.lower, customers.columns)"
   ]
  },
  {
   "cell_type": "code",
   "execution_count": 8,
   "metadata": {},
   "outputs": [
    {
     "data": {
      "text/html": [
       "<div>\n",
       "<style scoped>\n",
       "    .dataframe tbody tr th:only-of-type {\n",
       "        vertical-align: middle;\n",
       "    }\n",
       "\n",
       "    .dataframe tbody tr th {\n",
       "        vertical-align: top;\n",
       "    }\n",
       "\n",
       "    .dataframe thead th {\n",
       "        text-align: right;\n",
       "    }\n",
       "</style>\n",
       "<table border=\"1\" class=\"dataframe\">\n",
       "  <thead>\n",
       "    <tr style=\"text-align: right;\">\n",
       "      <th></th>\n",
       "      <th>rownumber</th>\n",
       "      <th>customerid</th>\n",
       "      <th>surname</th>\n",
       "      <th>creditscore</th>\n",
       "      <th>geography</th>\n",
       "      <th>gender</th>\n",
       "      <th>age</th>\n",
       "      <th>tenure</th>\n",
       "      <th>balance</th>\n",
       "      <th>numofproducts</th>\n",
       "      <th>hascrcard</th>\n",
       "      <th>isactivemember</th>\n",
       "      <th>estimatedsalary</th>\n",
       "      <th>exited</th>\n",
       "    </tr>\n",
       "  </thead>\n",
       "  <tbody>\n",
       "    <tr>\n",
       "      <th>30</th>\n",
       "      <td>31</td>\n",
       "      <td>15589475</td>\n",
       "      <td>Azikiwe</td>\n",
       "      <td>591</td>\n",
       "      <td>Spain</td>\n",
       "      <td>Female</td>\n",
       "      <td>39</td>\n",
       "      <td>NaN</td>\n",
       "      <td>0.00</td>\n",
       "      <td>3</td>\n",
       "      <td>1</td>\n",
       "      <td>0</td>\n",
       "      <td>140469.38</td>\n",
       "      <td>1</td>\n",
       "    </tr>\n",
       "    <tr>\n",
       "      <th>48</th>\n",
       "      <td>49</td>\n",
       "      <td>15766205</td>\n",
       "      <td>Yin</td>\n",
       "      <td>550</td>\n",
       "      <td>Germany</td>\n",
       "      <td>Male</td>\n",
       "      <td>38</td>\n",
       "      <td>NaN</td>\n",
       "      <td>103391.38</td>\n",
       "      <td>1</td>\n",
       "      <td>0</td>\n",
       "      <td>1</td>\n",
       "      <td>90878.13</td>\n",
       "      <td>0</td>\n",
       "    </tr>\n",
       "    <tr>\n",
       "      <th>51</th>\n",
       "      <td>52</td>\n",
       "      <td>15768193</td>\n",
       "      <td>Trevisani</td>\n",
       "      <td>585</td>\n",
       "      <td>Germany</td>\n",
       "      <td>Male</td>\n",
       "      <td>36</td>\n",
       "      <td>NaN</td>\n",
       "      <td>146050.97</td>\n",
       "      <td>2</td>\n",
       "      <td>0</td>\n",
       "      <td>0</td>\n",
       "      <td>86424.57</td>\n",
       "      <td>0</td>\n",
       "    </tr>\n",
       "    <tr>\n",
       "      <th>53</th>\n",
       "      <td>54</td>\n",
       "      <td>15702298</td>\n",
       "      <td>Parkhill</td>\n",
       "      <td>655</td>\n",
       "      <td>Germany</td>\n",
       "      <td>Male</td>\n",
       "      <td>41</td>\n",
       "      <td>NaN</td>\n",
       "      <td>125561.97</td>\n",
       "      <td>1</td>\n",
       "      <td>0</td>\n",
       "      <td>0</td>\n",
       "      <td>164040.94</td>\n",
       "      <td>1</td>\n",
       "    </tr>\n",
       "    <tr>\n",
       "      <th>60</th>\n",
       "      <td>61</td>\n",
       "      <td>15651280</td>\n",
       "      <td>Hunter</td>\n",
       "      <td>742</td>\n",
       "      <td>Germany</td>\n",
       "      <td>Male</td>\n",
       "      <td>35</td>\n",
       "      <td>NaN</td>\n",
       "      <td>136857.00</td>\n",
       "      <td>1</td>\n",
       "      <td>0</td>\n",
       "      <td>0</td>\n",
       "      <td>84509.57</td>\n",
       "      <td>0</td>\n",
       "    </tr>\n",
       "    <tr>\n",
       "      <th>...</th>\n",
       "      <td>...</td>\n",
       "      <td>...</td>\n",
       "      <td>...</td>\n",
       "      <td>...</td>\n",
       "      <td>...</td>\n",
       "      <td>...</td>\n",
       "      <td>...</td>\n",
       "      <td>...</td>\n",
       "      <td>...</td>\n",
       "      <td>...</td>\n",
       "      <td>...</td>\n",
       "      <td>...</td>\n",
       "      <td>...</td>\n",
       "      <td>...</td>\n",
       "    </tr>\n",
       "    <tr>\n",
       "      <th>9944</th>\n",
       "      <td>9945</td>\n",
       "      <td>15703923</td>\n",
       "      <td>Cameron</td>\n",
       "      <td>744</td>\n",
       "      <td>Germany</td>\n",
       "      <td>Male</td>\n",
       "      <td>41</td>\n",
       "      <td>NaN</td>\n",
       "      <td>190409.34</td>\n",
       "      <td>2</td>\n",
       "      <td>1</td>\n",
       "      <td>1</td>\n",
       "      <td>138361.48</td>\n",
       "      <td>0</td>\n",
       "    </tr>\n",
       "    <tr>\n",
       "      <th>9956</th>\n",
       "      <td>9957</td>\n",
       "      <td>15707861</td>\n",
       "      <td>Nucci</td>\n",
       "      <td>520</td>\n",
       "      <td>France</td>\n",
       "      <td>Female</td>\n",
       "      <td>46</td>\n",
       "      <td>NaN</td>\n",
       "      <td>85216.61</td>\n",
       "      <td>1</td>\n",
       "      <td>1</td>\n",
       "      <td>0</td>\n",
       "      <td>117369.52</td>\n",
       "      <td>1</td>\n",
       "    </tr>\n",
       "    <tr>\n",
       "      <th>9964</th>\n",
       "      <td>9965</td>\n",
       "      <td>15642785</td>\n",
       "      <td>Douglas</td>\n",
       "      <td>479</td>\n",
       "      <td>France</td>\n",
       "      <td>Male</td>\n",
       "      <td>34</td>\n",
       "      <td>NaN</td>\n",
       "      <td>117593.48</td>\n",
       "      <td>2</td>\n",
       "      <td>0</td>\n",
       "      <td>0</td>\n",
       "      <td>113308.29</td>\n",
       "      <td>0</td>\n",
       "    </tr>\n",
       "    <tr>\n",
       "      <th>9985</th>\n",
       "      <td>9986</td>\n",
       "      <td>15586914</td>\n",
       "      <td>Nepean</td>\n",
       "      <td>659</td>\n",
       "      <td>France</td>\n",
       "      <td>Male</td>\n",
       "      <td>36</td>\n",
       "      <td>NaN</td>\n",
       "      <td>123841.49</td>\n",
       "      <td>2</td>\n",
       "      <td>1</td>\n",
       "      <td>0</td>\n",
       "      <td>96833.00</td>\n",
       "      <td>0</td>\n",
       "    </tr>\n",
       "    <tr>\n",
       "      <th>9999</th>\n",
       "      <td>10000</td>\n",
       "      <td>15628319</td>\n",
       "      <td>Walker</td>\n",
       "      <td>792</td>\n",
       "      <td>France</td>\n",
       "      <td>Female</td>\n",
       "      <td>28</td>\n",
       "      <td>NaN</td>\n",
       "      <td>130142.79</td>\n",
       "      <td>1</td>\n",
       "      <td>1</td>\n",
       "      <td>0</td>\n",
       "      <td>38190.78</td>\n",
       "      <td>0</td>\n",
       "    </tr>\n",
       "  </tbody>\n",
       "</table>\n",
       "<p>909 rows × 14 columns</p>\n",
       "</div>"
      ],
      "text/plain": [
       "      rownumber  customerid    surname  creditscore geography  gender  age  \\\n",
       "30           31    15589475    Azikiwe          591     Spain  Female   39   \n",
       "48           49    15766205        Yin          550   Germany    Male   38   \n",
       "51           52    15768193  Trevisani          585   Germany    Male   36   \n",
       "53           54    15702298   Parkhill          655   Germany    Male   41   \n",
       "60           61    15651280     Hunter          742   Germany    Male   35   \n",
       "...         ...         ...        ...          ...       ...     ...  ...   \n",
       "9944       9945    15703923    Cameron          744   Germany    Male   41   \n",
       "9956       9957    15707861      Nucci          520    France  Female   46   \n",
       "9964       9965    15642785    Douglas          479    France    Male   34   \n",
       "9985       9986    15586914     Nepean          659    France    Male   36   \n",
       "9999      10000    15628319     Walker          792    France  Female   28   \n",
       "\n",
       "      tenure    balance  numofproducts  hascrcard  isactivemember  \\\n",
       "30       NaN       0.00              3          1               0   \n",
       "48       NaN  103391.38              1          0               1   \n",
       "51       NaN  146050.97              2          0               0   \n",
       "53       NaN  125561.97              1          0               0   \n",
       "60       NaN  136857.00              1          0               0   \n",
       "...      ...        ...            ...        ...             ...   \n",
       "9944     NaN  190409.34              2          1               1   \n",
       "9956     NaN   85216.61              1          1               0   \n",
       "9964     NaN  117593.48              2          0               0   \n",
       "9985     NaN  123841.49              2          1               0   \n",
       "9999     NaN  130142.79              1          1               0   \n",
       "\n",
       "      estimatedsalary  exited  \n",
       "30          140469.38       1  \n",
       "48           90878.13       0  \n",
       "51           86424.57       0  \n",
       "53          164040.94       1  \n",
       "60           84509.57       0  \n",
       "...               ...     ...  \n",
       "9944        138361.48       0  \n",
       "9956        117369.52       1  \n",
       "9964        113308.29       0  \n",
       "9985         96833.00       0  \n",
       "9999         38190.78       0  \n",
       "\n",
       "[909 rows x 14 columns]"
      ]
     },
     "execution_count": 8,
     "metadata": {},
     "output_type": "execute_result"
    }
   ],
   "source": [
    "customers[customers['tenure'].isnull()]"
   ]
  },
  {
   "cell_type": "code",
   "execution_count": 9,
   "metadata": {},
   "outputs": [
    {
     "data": {
      "text/html": [
       "<div>\n",
       "<style scoped>\n",
       "    .dataframe tbody tr th:only-of-type {\n",
       "        vertical-align: middle;\n",
       "    }\n",
       "\n",
       "    .dataframe tbody tr th {\n",
       "        vertical-align: top;\n",
       "    }\n",
       "\n",
       "    .dataframe thead th {\n",
       "        text-align: right;\n",
       "    }\n",
       "</style>\n",
       "<table border=\"1\" class=\"dataframe\">\n",
       "  <thead>\n",
       "    <tr style=\"text-align: right;\">\n",
       "      <th></th>\n",
       "      <th>rownumber</th>\n",
       "      <th>customerid</th>\n",
       "      <th>creditscore</th>\n",
       "      <th>age</th>\n",
       "      <th>tenure</th>\n",
       "      <th>balance</th>\n",
       "      <th>numofproducts</th>\n",
       "      <th>hascrcard</th>\n",
       "      <th>isactivemember</th>\n",
       "      <th>estimatedsalary</th>\n",
       "      <th>exited</th>\n",
       "    </tr>\n",
       "  </thead>\n",
       "  <tbody>\n",
       "    <tr>\n",
       "      <th>count</th>\n",
       "      <td>909.000000</td>\n",
       "      <td>9.090000e+02</td>\n",
       "      <td>909.000000</td>\n",
       "      <td>909.000000</td>\n",
       "      <td>0.0</td>\n",
       "      <td>909.000000</td>\n",
       "      <td>909.000000</td>\n",
       "      <td>909.000000</td>\n",
       "      <td>909.000000</td>\n",
       "      <td>909.000000</td>\n",
       "      <td>909.000000</td>\n",
       "    </tr>\n",
       "    <tr>\n",
       "      <th>mean</th>\n",
       "      <td>4866.386139</td>\n",
       "      <td>1.568981e+07</td>\n",
       "      <td>648.451045</td>\n",
       "      <td>38.647965</td>\n",
       "      <td>NaN</td>\n",
       "      <td>76117.341474</td>\n",
       "      <td>1.530253</td>\n",
       "      <td>0.710671</td>\n",
       "      <td>0.510451</td>\n",
       "      <td>99180.389373</td>\n",
       "      <td>0.201320</td>\n",
       "    </tr>\n",
       "    <tr>\n",
       "      <th>std</th>\n",
       "      <td>2909.604343</td>\n",
       "      <td>7.511225e+04</td>\n",
       "      <td>99.079381</td>\n",
       "      <td>9.785438</td>\n",
       "      <td>NaN</td>\n",
       "      <td>63105.690715</td>\n",
       "      <td>0.588452</td>\n",
       "      <td>0.453701</td>\n",
       "      <td>0.500166</td>\n",
       "      <td>56378.063765</td>\n",
       "      <td>0.401207</td>\n",
       "    </tr>\n",
       "    <tr>\n",
       "      <th>min</th>\n",
       "      <td>31.000000</td>\n",
       "      <td>1.556581e+07</td>\n",
       "      <td>359.000000</td>\n",
       "      <td>18.000000</td>\n",
       "      <td>NaN</td>\n",
       "      <td>0.000000</td>\n",
       "      <td>1.000000</td>\n",
       "      <td>0.000000</td>\n",
       "      <td>0.000000</td>\n",
       "      <td>106.670000</td>\n",
       "      <td>0.000000</td>\n",
       "    </tr>\n",
       "    <tr>\n",
       "      <th>25%</th>\n",
       "      <td>2311.000000</td>\n",
       "      <td>1.562658e+07</td>\n",
       "      <td>580.000000</td>\n",
       "      <td>32.000000</td>\n",
       "      <td>NaN</td>\n",
       "      <td>0.000000</td>\n",
       "      <td>1.000000</td>\n",
       "      <td>0.000000</td>\n",
       "      <td>0.000000</td>\n",
       "      <td>49872.330000</td>\n",
       "      <td>0.000000</td>\n",
       "    </tr>\n",
       "    <tr>\n",
       "      <th>50%</th>\n",
       "      <td>4887.000000</td>\n",
       "      <td>1.568687e+07</td>\n",
       "      <td>647.000000</td>\n",
       "      <td>37.000000</td>\n",
       "      <td>NaN</td>\n",
       "      <td>96674.550000</td>\n",
       "      <td>1.000000</td>\n",
       "      <td>1.000000</td>\n",
       "      <td>1.000000</td>\n",
       "      <td>99444.020000</td>\n",
       "      <td>0.000000</td>\n",
       "    </tr>\n",
       "    <tr>\n",
       "      <th>75%</th>\n",
       "      <td>7306.000000</td>\n",
       "      <td>1.575680e+07</td>\n",
       "      <td>718.000000</td>\n",
       "      <td>43.000000</td>\n",
       "      <td>NaN</td>\n",
       "      <td>128554.980000</td>\n",
       "      <td>2.000000</td>\n",
       "      <td>1.000000</td>\n",
       "      <td>1.000000</td>\n",
       "      <td>145759.700000</td>\n",
       "      <td>0.000000</td>\n",
       "    </tr>\n",
       "    <tr>\n",
       "      <th>max</th>\n",
       "      <td>10000.000000</td>\n",
       "      <td>1.581569e+07</td>\n",
       "      <td>850.000000</td>\n",
       "      <td>92.000000</td>\n",
       "      <td>NaN</td>\n",
       "      <td>206663.750000</td>\n",
       "      <td>4.000000</td>\n",
       "      <td>1.000000</td>\n",
       "      <td>1.000000</td>\n",
       "      <td>199390.450000</td>\n",
       "      <td>1.000000</td>\n",
       "    </tr>\n",
       "  </tbody>\n",
       "</table>\n",
       "</div>"
      ],
      "text/plain": [
       "          rownumber    customerid  creditscore         age  tenure  \\\n",
       "count    909.000000  9.090000e+02   909.000000  909.000000     0.0   \n",
       "mean    4866.386139  1.568981e+07   648.451045   38.647965     NaN   \n",
       "std     2909.604343  7.511225e+04    99.079381    9.785438     NaN   \n",
       "min       31.000000  1.556581e+07   359.000000   18.000000     NaN   \n",
       "25%     2311.000000  1.562658e+07   580.000000   32.000000     NaN   \n",
       "50%     4887.000000  1.568687e+07   647.000000   37.000000     NaN   \n",
       "75%     7306.000000  1.575680e+07   718.000000   43.000000     NaN   \n",
       "max    10000.000000  1.581569e+07   850.000000   92.000000     NaN   \n",
       "\n",
       "             balance  numofproducts   hascrcard  isactivemember  \\\n",
       "count     909.000000     909.000000  909.000000      909.000000   \n",
       "mean    76117.341474       1.530253    0.710671        0.510451   \n",
       "std     63105.690715       0.588452    0.453701        0.500166   \n",
       "min         0.000000       1.000000    0.000000        0.000000   \n",
       "25%         0.000000       1.000000    0.000000        0.000000   \n",
       "50%     96674.550000       1.000000    1.000000        1.000000   \n",
       "75%    128554.980000       2.000000    1.000000        1.000000   \n",
       "max    206663.750000       4.000000    1.000000        1.000000   \n",
       "\n",
       "       estimatedsalary      exited  \n",
       "count       909.000000  909.000000  \n",
       "mean      99180.389373    0.201320  \n",
       "std       56378.063765    0.401207  \n",
       "min         106.670000    0.000000  \n",
       "25%       49872.330000    0.000000  \n",
       "50%       99444.020000    0.000000  \n",
       "75%      145759.700000    0.000000  \n",
       "max      199390.450000    1.000000  "
      ]
     },
     "execution_count": 9,
     "metadata": {},
     "output_type": "execute_result"
    }
   ],
   "source": [
    "customers[customers['tenure'].isnull()].describe()"
   ]
  },
  {
   "cell_type": "markdown",
   "metadata": {},
   "source": [
    "There is no immediately clear reason why these 909 accounts do not have tenure info.  Given there is no information upon which to base a guess of their account maturation term but the info is likely quite relevant to predicting whether or not a customer remains with the bank, I will drop these rows, even though that means losing 9% of the data set, so they do not impede later predictions.  Fortunately, this should not affect the predictions later on, as the means for most columns in this subset are close or equivalent to the means for the entire dataset."
   ]
  },
  {
   "cell_type": "code",
   "execution_count": 10,
   "metadata": {},
   "outputs": [
    {
     "data": {
      "text/plain": [
       "(9091, 14)"
      ]
     },
     "execution_count": 10,
     "metadata": {},
     "output_type": "execute_result"
    }
   ],
   "source": [
    "customers.dropna(subset=['tenure'], inplace=True)\n",
    "customers.shape"
   ]
  },
  {
   "cell_type": "code",
   "execution_count": 11,
   "metadata": {},
   "outputs": [],
   "source": [
    "#dropping unneccessary columns\n",
    "customers.drop(['customerid', 'surname', 'rownumber'], axis=1, inplace=True)"
   ]
  },
  {
   "cell_type": "markdown",
   "metadata": {},
   "source": [
    "Now that unnecessary columns have been removed, I will convert the geography and gender columns to a binary yes/no format."
   ]
  },
  {
   "cell_type": "code",
   "execution_count": 12,
   "metadata": {},
   "outputs": [
    {
     "data": {
      "text/html": [
       "<div>\n",
       "<style scoped>\n",
       "    .dataframe tbody tr th:only-of-type {\n",
       "        vertical-align: middle;\n",
       "    }\n",
       "\n",
       "    .dataframe tbody tr th {\n",
       "        vertical-align: top;\n",
       "    }\n",
       "\n",
       "    .dataframe thead th {\n",
       "        text-align: right;\n",
       "    }\n",
       "</style>\n",
       "<table border=\"1\" class=\"dataframe\">\n",
       "  <thead>\n",
       "    <tr style=\"text-align: right;\">\n",
       "      <th></th>\n",
       "      <th>creditscore</th>\n",
       "      <th>age</th>\n",
       "      <th>tenure</th>\n",
       "      <th>balance</th>\n",
       "      <th>numofproducts</th>\n",
       "      <th>hascrcard</th>\n",
       "      <th>isactivemember</th>\n",
       "      <th>estimatedsalary</th>\n",
       "      <th>exited</th>\n",
       "      <th>geography_Germany</th>\n",
       "      <th>geography_Spain</th>\n",
       "      <th>gender_Male</th>\n",
       "    </tr>\n",
       "  </thead>\n",
       "  <tbody>\n",
       "    <tr>\n",
       "      <th>0</th>\n",
       "      <td>619</td>\n",
       "      <td>42</td>\n",
       "      <td>2.0</td>\n",
       "      <td>0.00</td>\n",
       "      <td>1</td>\n",
       "      <td>1</td>\n",
       "      <td>1</td>\n",
       "      <td>101348.88</td>\n",
       "      <td>1</td>\n",
       "      <td>0</td>\n",
       "      <td>0</td>\n",
       "      <td>0</td>\n",
       "    </tr>\n",
       "    <tr>\n",
       "      <th>1</th>\n",
       "      <td>608</td>\n",
       "      <td>41</td>\n",
       "      <td>1.0</td>\n",
       "      <td>83807.86</td>\n",
       "      <td>1</td>\n",
       "      <td>0</td>\n",
       "      <td>1</td>\n",
       "      <td>112542.58</td>\n",
       "      <td>0</td>\n",
       "      <td>0</td>\n",
       "      <td>1</td>\n",
       "      <td>0</td>\n",
       "    </tr>\n",
       "    <tr>\n",
       "      <th>2</th>\n",
       "      <td>502</td>\n",
       "      <td>42</td>\n",
       "      <td>8.0</td>\n",
       "      <td>159660.80</td>\n",
       "      <td>3</td>\n",
       "      <td>1</td>\n",
       "      <td>0</td>\n",
       "      <td>113931.57</td>\n",
       "      <td>1</td>\n",
       "      <td>0</td>\n",
       "      <td>0</td>\n",
       "      <td>0</td>\n",
       "    </tr>\n",
       "    <tr>\n",
       "      <th>3</th>\n",
       "      <td>699</td>\n",
       "      <td>39</td>\n",
       "      <td>1.0</td>\n",
       "      <td>0.00</td>\n",
       "      <td>2</td>\n",
       "      <td>0</td>\n",
       "      <td>0</td>\n",
       "      <td>93826.63</td>\n",
       "      <td>0</td>\n",
       "      <td>0</td>\n",
       "      <td>0</td>\n",
       "      <td>0</td>\n",
       "    </tr>\n",
       "    <tr>\n",
       "      <th>4</th>\n",
       "      <td>850</td>\n",
       "      <td>43</td>\n",
       "      <td>2.0</td>\n",
       "      <td>125510.82</td>\n",
       "      <td>1</td>\n",
       "      <td>1</td>\n",
       "      <td>1</td>\n",
       "      <td>79084.10</td>\n",
       "      <td>0</td>\n",
       "      <td>0</td>\n",
       "      <td>1</td>\n",
       "      <td>0</td>\n",
       "    </tr>\n",
       "    <tr>\n",
       "      <th>...</th>\n",
       "      <td>...</td>\n",
       "      <td>...</td>\n",
       "      <td>...</td>\n",
       "      <td>...</td>\n",
       "      <td>...</td>\n",
       "      <td>...</td>\n",
       "      <td>...</td>\n",
       "      <td>...</td>\n",
       "      <td>...</td>\n",
       "      <td>...</td>\n",
       "      <td>...</td>\n",
       "      <td>...</td>\n",
       "    </tr>\n",
       "    <tr>\n",
       "      <th>9994</th>\n",
       "      <td>800</td>\n",
       "      <td>29</td>\n",
       "      <td>2.0</td>\n",
       "      <td>0.00</td>\n",
       "      <td>2</td>\n",
       "      <td>0</td>\n",
       "      <td>0</td>\n",
       "      <td>167773.55</td>\n",
       "      <td>0</td>\n",
       "      <td>0</td>\n",
       "      <td>0</td>\n",
       "      <td>0</td>\n",
       "    </tr>\n",
       "    <tr>\n",
       "      <th>9995</th>\n",
       "      <td>771</td>\n",
       "      <td>39</td>\n",
       "      <td>5.0</td>\n",
       "      <td>0.00</td>\n",
       "      <td>2</td>\n",
       "      <td>1</td>\n",
       "      <td>0</td>\n",
       "      <td>96270.64</td>\n",
       "      <td>0</td>\n",
       "      <td>0</td>\n",
       "      <td>0</td>\n",
       "      <td>1</td>\n",
       "    </tr>\n",
       "    <tr>\n",
       "      <th>9996</th>\n",
       "      <td>516</td>\n",
       "      <td>35</td>\n",
       "      <td>10.0</td>\n",
       "      <td>57369.61</td>\n",
       "      <td>1</td>\n",
       "      <td>1</td>\n",
       "      <td>1</td>\n",
       "      <td>101699.77</td>\n",
       "      <td>0</td>\n",
       "      <td>0</td>\n",
       "      <td>0</td>\n",
       "      <td>1</td>\n",
       "    </tr>\n",
       "    <tr>\n",
       "      <th>9997</th>\n",
       "      <td>709</td>\n",
       "      <td>36</td>\n",
       "      <td>7.0</td>\n",
       "      <td>0.00</td>\n",
       "      <td>1</td>\n",
       "      <td>0</td>\n",
       "      <td>1</td>\n",
       "      <td>42085.58</td>\n",
       "      <td>1</td>\n",
       "      <td>0</td>\n",
       "      <td>0</td>\n",
       "      <td>0</td>\n",
       "    </tr>\n",
       "    <tr>\n",
       "      <th>9998</th>\n",
       "      <td>772</td>\n",
       "      <td>42</td>\n",
       "      <td>3.0</td>\n",
       "      <td>75075.31</td>\n",
       "      <td>2</td>\n",
       "      <td>1</td>\n",
       "      <td>0</td>\n",
       "      <td>92888.52</td>\n",
       "      <td>1</td>\n",
       "      <td>1</td>\n",
       "      <td>0</td>\n",
       "      <td>1</td>\n",
       "    </tr>\n",
       "  </tbody>\n",
       "</table>\n",
       "<p>9091 rows × 12 columns</p>\n",
       "</div>"
      ],
      "text/plain": [
       "      creditscore  age  tenure    balance  numofproducts  hascrcard  \\\n",
       "0             619   42     2.0       0.00              1          1   \n",
       "1             608   41     1.0   83807.86              1          0   \n",
       "2             502   42     8.0  159660.80              3          1   \n",
       "3             699   39     1.0       0.00              2          0   \n",
       "4             850   43     2.0  125510.82              1          1   \n",
       "...           ...  ...     ...        ...            ...        ...   \n",
       "9994          800   29     2.0       0.00              2          0   \n",
       "9995          771   39     5.0       0.00              2          1   \n",
       "9996          516   35    10.0   57369.61              1          1   \n",
       "9997          709   36     7.0       0.00              1          0   \n",
       "9998          772   42     3.0   75075.31              2          1   \n",
       "\n",
       "      isactivemember  estimatedsalary  exited  geography_Germany  \\\n",
       "0                  1        101348.88       1                  0   \n",
       "1                  1        112542.58       0                  0   \n",
       "2                  0        113931.57       1                  0   \n",
       "3                  0         93826.63       0                  0   \n",
       "4                  1         79084.10       0                  0   \n",
       "...              ...              ...     ...                ...   \n",
       "9994               0        167773.55       0                  0   \n",
       "9995               0         96270.64       0                  0   \n",
       "9996               1        101699.77       0                  0   \n",
       "9997               1         42085.58       1                  0   \n",
       "9998               0         92888.52       1                  1   \n",
       "\n",
       "      geography_Spain  gender_Male  \n",
       "0                   0            0  \n",
       "1                   1            0  \n",
       "2                   0            0  \n",
       "3                   0            0  \n",
       "4                   1            0  \n",
       "...               ...          ...  \n",
       "9994                0            0  \n",
       "9995                0            1  \n",
       "9996                0            1  \n",
       "9997                0            0  \n",
       "9998                0            1  \n",
       "\n",
       "[9091 rows x 12 columns]"
      ]
     },
     "execution_count": 12,
     "metadata": {},
     "output_type": "execute_result"
    }
   ],
   "source": [
    "#beginning OHE for categorical data\n",
    "customers = pd.get_dummies(customers, drop_first=True)\n",
    "customers"
   ]
  },
  {
   "cell_type": "markdown",
   "metadata": {},
   "source": [
    "Now, the data will reflect which country the customer is from in a binary format.  If Germany and Spain are both 0, the customer is from France."
   ]
  },
  {
   "cell_type": "code",
   "execution_count": 13,
   "metadata": {},
   "outputs": [
    {
     "data": {
      "text/plain": [
       "0"
      ]
     },
     "execution_count": 13,
     "metadata": {},
     "output_type": "execute_result"
    }
   ],
   "source": [
    "#checking for duplicates\n",
    "customers.duplicated().sum()"
   ]
  },
  {
   "cell_type": "markdown",
   "metadata": {},
   "source": [
    "The data should now be ready for beginning to build a model.  In the next section, I will build the model and determine the steps needed to balance the classes and create a more accurate model.\n",
    "\n",
    "## Initial Model\n",
    "Before assessing which model will work best, I will check class imbalance and split the data set.  Then, I will build a few different models to determine the best model with which to proceed."
   ]
  },
  {
   "cell_type": "code",
   "execution_count": 14,
   "metadata": {},
   "outputs": [
    {
     "data": {
      "text/plain": [
       "0    0.796062\n",
       "1    0.203938\n",
       "Name: exited, dtype: float64"
      ]
     },
     "execution_count": 14,
     "metadata": {},
     "output_type": "execute_result"
    }
   ],
   "source": [
    "customers['exited'].value_counts(normalize=True)"
   ]
  },
  {
   "cell_type": "markdown",
   "metadata": {},
   "source": [
    "Consistent with my observation above, 80% of the customers in the data set are still bank customers, but 20% have already left.  This is a fairly imbalanced data set, so I will need to account for that as I revise this initial model.\n",
    "\n",
    "For further analysis, I will split 60% of the data into a training set to train the model, 20% into a validation set to assist in hyperparameter tuning, and the remaining 20% will serve as a test set to evaluate the model's performance."
   ]
  },
  {
   "cell_type": "code",
   "execution_count": 15,
   "metadata": {},
   "outputs": [
    {
     "name": "stdout",
     "output_type": "stream",
     "text": [
      "Training Set Size: 5454\n",
      "Validation Set Size: 1818\n",
      "Test Set Size: 1819\n"
     ]
    }
   ],
   "source": [
    "train, remain = train_test_split(customers, test_size=0.4, random_state=1)\n",
    "valid, test = train_test_split(remain, test_size=0.5, random_state=1)\n",
    "print(f'Training Set Size: {train.shape[0]}')\n",
    "print(f'Validation Set Size: {valid.shape[0]}')\n",
    "print(f'Test Set Size: {test.shape[0]}')"
   ]
  },
  {
   "cell_type": "code",
   "execution_count": 16,
   "metadata": {},
   "outputs": [
    {
     "name": "stdout",
     "output_type": "stream",
     "text": [
      "(5454, 11)\n",
      "(5454,)\n",
      "(1818, 11)\n",
      "(1818,)\n",
      "(1819, 11)\n",
      "(1819,)\n"
     ]
    }
   ],
   "source": [
    "#defining variables\n",
    "target = customers['exited']\n",
    "features = customers.drop(['exited'], axis=1)\n",
    "train_target = train['exited']\n",
    "train_features = train.drop(['exited'], axis=1)\n",
    "valid_target = valid['exited']\n",
    "valid_features = valid.drop(['exited'], axis=1)\n",
    "test_target = test['exited']\n",
    "test_features = test.drop(['exited'], axis=1)\n",
    "print(train_features.shape)\n",
    "print(train_target.shape)\n",
    "print(valid_features.shape)\n",
    "print(valid_target.shape)\n",
    "print(test_features.shape)\n",
    "print(test_target.shape)"
   ]
  },
  {
   "cell_type": "markdown",
   "metadata": {},
   "source": [
    "Now that the data set is split and the target and features defined for each subset, I will begin with a decision tree model to get a baseline level of accuracy for the dataset.  Decision trees generally have low accuracy, but high processing speed, so it is a good starting point."
   ]
  },
  {
   "cell_type": "code",
   "execution_count": 17,
   "metadata": {},
   "outputs": [
    {
     "name": "stdout",
     "output_type": "stream",
     "text": [
      "max_depth = 5 : 0.4132231404958678\n",
      "max_depth = 6 : 0.49084249084249076\n",
      "max_depth = 7 : 0.5064220183486238\n",
      "max_depth = 8 : 0.4991452991452991\n",
      "max_depth = 9 : 0.4775641025641026\n",
      "max_depth = 10 : 0.5055292259083728\n",
      "max_depth = 11 : 0.4783950617283951\n",
      "max_depth = 12 : 0.4868035190615836\n",
      "max_depth = 13 : 0.486090775988287\n",
      "max_depth = 14 : 0.4774381368267831\n",
      "max_depth = 15 : 0.47765363128491617\n"
     ]
    }
   ],
   "source": [
    "#creating decision tree model\n",
    "for depth in range(5, 16):\n",
    "    dt_model = DecisionTreeClassifier(max_depth=depth, random_state=1)\n",
    "    dt_model.fit(train_features, train_target)\n",
    "    train_predictions = dt_model.predict(train_features)\n",
    "    valid_predictions = dt_model.predict(valid_features)\n",
    "    print('max_depth =', depth, ': ', end='')\n",
    "    print(f1_score(valid_target, valid_predictions))"
   ]
  },
  {
   "cell_type": "markdown",
   "metadata": {},
   "source": [
    "The decision tree model achieves the highest F1 score with a tree depth of 7: 0.51.  The model performs ok!  Still, a Random Forest model or Linear Regression model might perform better."
   ]
  },
  {
   "cell_type": "code",
   "execution_count": null,
   "metadata": {},
   "outputs": [],
   "source": [
    "# creating random forest model\n",
    "best_score = 0\n",
    "best_est = 0\n",
    "for est in range(160, 260):\n",
    "    rf_model = RandomForestClassifier(random_state=1, n_estimators=est)\n",
    "    rf_model.fit(train_features, train_target)\n",
    "    score = f1_score(valid_target, rf_model.predict(valid_features))\n",
    "    if score > best_score:\n",
    "        best_score = score\n",
    "        best_est = est\n",
    "print(\"F1 of the best model on the validation set (n_estimators = {}): {}\".format(best_est, best_score))"
   ]
  },
  {
   "cell_type": "markdown",
   "metadata": {},
   "source": [
    "The Random Forest model is able to improve F1 substantially to 0.56 with 169 estimators!"
   ]
  },
  {
   "cell_type": "code",
   "execution_count": null,
   "metadata": {},
   "outputs": [],
   "source": [
    "# creating logistic regression model\n",
    "\n",
    "scaler = StandardScaler()\n",
    "train_features_scaled = scaler.fit_transform(train_features)\n",
    "valid_features_scaled = scaler.transform(valid_features)\n",
    "\n",
    "lr_model = LogisticRegression(random_state=1, solver='liblinear')\n",
    "lr_model.fit(train_features_scaled, train_target)\n",
    "train_score = f1_score(train_target, lr_model.predict(train_features_scaled))\n",
    "valid_score = f1_score(valid_target, lr_model.predict(valid_features_scaled))\n",
    "print(\"F1 of the logistic regression model on the training set:\", train_score)\n",
    "print(\"F1 of the logistic regression model on the validation set:\", valid_score)"
   ]
  },
  {
   "cell_type": "markdown",
   "metadata": {},
   "source": [
    "Logistic regression is not much help here, even with feature scaling, so I will proceed with the Random Forest model.  It has a solid F1, though could use some improvements with better class balancing.  Before working to improve the model by taking class imbalance into account, I will calculate some benchmarks in addition to F1."
   ]
  },
  {
   "cell_type": "code",
   "execution_count": null,
   "metadata": {},
   "outputs": [],
   "source": [
    "model = RandomForestClassifier(random_state=1, n_estimators=169)\n",
    "model.fit(train_features, train_target)\n",
    "valid_predicted = pd.Series(model.predict(valid_features))\n",
    "valid_predicted.value_counts(normalize=True)"
   ]
  },
  {
   "cell_type": "markdown",
   "metadata": {},
   "source": [
    "The model predicted that 89% of customers would stay with the bank versus 11% leaving."
   ]
  },
  {
   "cell_type": "code",
   "execution_count": null,
   "metadata": {
    "scrolled": true
   },
   "outputs": [],
   "source": [
    "valid_proba = model.predict_proba(valid_features)\n",
    "valid_proba_1 = valid_proba[:, 1]\n",
    "roc_auc_score(valid_target, valid_proba_1)"
   ]
  },
  {
   "cell_type": "markdown",
   "metadata": {},
   "source": [
    "The F1 score for the model is ok but can definitely be improved upon by better balancing the classes.  The AUC-ROC score, however, is very good.  The model does well distinguishing between positive and negative classes.\n",
    "\n",
    "## Improving the Model\n",
    "While the AUC-ROC score is fairly high, the model's performance can be improved with regard to the F1 value, indicating that class imbalance is affecting precision and recall.  Given that the model predicted 89% of customers would stay and 11% would leave, it would seem the model is overpredicting the number of customers who will stay--not shocking given the data was already imbalanced in that direction.  To attempt to improve the model, I will try several strategies to improve the F1 score to ensure the model is properly sensitive to class imbalance.\n",
    "### Adding class_weight\n",
    "Given that this dataset has an 1:4 ratio between clients who have left the bank and clients who are still customers, I will start by adding the class_weight argument to my model to see if it lends any improvement."
   ]
  },
  {
   "cell_type": "code",
   "execution_count": null,
   "metadata": {},
   "outputs": [],
   "source": [
    "model = RandomForestClassifier(random_state=1, n_estimators=169, class_weight='balanced')\n",
    "model.fit(train_features, train_target)\n",
    "valid_predicted = model.predict(valid_features)\n",
    "f1_score(valid_target, valid_predicted)"
   ]
  },
  {
   "cell_type": "code",
   "execution_count": null,
   "metadata": {},
   "outputs": [],
   "source": [
    "valid_proba = model.predict_proba(valid_features)\n",
    "valid_proba_1 = valid_proba[:, 1]\n",
    "roc_auc_score(valid_target, valid_proba_1)"
   ]
  },
  {
   "cell_type": "markdown",
   "metadata": {},
   "source": [
    "The balanced class weight argument does not improve the model.  In fact, the model performs a bit worse across all metrics.  I will try a different approach to see if I can increase the F1 of the Random Forest model.\n",
    "\n",
    "### Downsampling\n",
    "Given the data contains a significantly higher amount of customers who are still with the bank, I will attempt to improve the model by downsampling this population so that the model no longer overestimates the percentage of users who will stay with the bank."
   ]
  },
  {
   "cell_type": "code",
   "execution_count": null,
   "metadata": {},
   "outputs": [],
   "source": [
    "def downsample(features, target, fraction):\n",
    "    features_zeros = features[target == 0]\n",
    "    features_ones = features[target == 1]\n",
    "    target_zeros = target[target == 0]\n",
    "    target_ones = target[target == 1]\n",
    "    \n",
    "    downsampled_features = pd.concat([features_zeros.sample(frac=fraction, random_state=1)] + [features_ones])\n",
    "    downsampled_target = pd.concat([target_zeros.sample(frac=fraction, random_state=1)] + [target_ones])\n",
    "    \n",
    "    downsampled_features, downsampled_target = shuffle(downsampled_features, downsampled_target, random_state=1)\n",
    "    \n",
    "    return downsampled_features, downsampled_target\n",
    "\n",
    "best_f1 = 0\n",
    "best_fraction = 0\n",
    "for fraction in np.arange(0.05, 1.05, 0.05):\n",
    "    downsampled_features, downsampled_target = downsample(train_features, train_target, fraction)\n",
    "    \n",
    "    model = RandomForestClassifier(random_state=1, n_estimators=169)\n",
    "    model.fit(downsampled_features, downsampled_target)\n",
    "    valid_predicted = model.predict(valid_features)\n",
    "    f1_score = f1_score(valid_target, valid_predicted)\n",
    "    \n",
    "    if f1_score > best_f1:\n",
    "        best_f1 = f1_score\n",
    "        best_fraction = fraction\n",
    "        \n",
    "print('Best F1 Score Achieved:', best_f1)\n",
    "print('Best Fraction:', best_fraction)"
   ]
  },
  {
   "cell_type": "code",
   "execution_count": null,
   "metadata": {},
   "outputs": [],
   "source": [
    "downsampled_features, downsampled_target = downsample(train_features, train_target, 0.5)\n",
    "model = RandomForestClassifier(random_state=1, n_estimators=169)\n",
    "model.fit(downsampled_features, downsampled_target)\n",
    "valid_predicted = model.predict(valid_features)\n",
    "f1_score(valid_target, valid_predicted)"
   ]
  },
  {
   "cell_type": "code",
   "execution_count": null,
   "metadata": {},
   "outputs": [],
   "source": [
    "valid_proba = model.predict_proba(valid_features)\n",
    "valid_proba_1 = valid_proba[:, 1]\n",
    "roc_auc_score(valid_target, valid_proba_1)"
   ]
  },
  {
   "cell_type": "markdown",
   "metadata": {},
   "source": [
    "Downsampling improved the F1 while maintaining the AUC-ROC.  The model is handling class imbalance better than before!  I will finalize my model adjustments by adjusting the threshold.\n",
    "\n",
    "### Threshold Adjustment\n",
    "To ensure the model considers the possibility of a customer leaving the bank more thoroughly, I will lower the threshold to increase recall and align the model more closely with the data set."
   ]
  },
  {
   "cell_type": "code",
   "execution_count": null,
   "metadata": {},
   "outputs": [],
   "source": [
    "for threshold in np.arange(0, 1.1, 0.1):\n",
    "    valid_predicted = valid_proba_1 > threshold\n",
    "    F1 = f1_score(valid_target, valid_predicted)\n",
    "    AUCROC = roc_auc_score(valid_target, valid_proba_1)\n",
    "    print('Threshold = {:.2f}, F1 = {:.3f}, AUC-ROC = {:.3f}'.format(threshold, F1, AUCROC))"
   ]
  },
  {
   "cell_type": "markdown",
   "metadata": {},
   "source": [
    "Threshold adjustment does not provide any improvement to the model; in fact, the argument lowers F1 score.  I will now explore if upsampling can help the model's F1 score.\n",
    "\n",
    "### Upsampling"
   ]
  },
  {
   "cell_type": "code",
   "execution_count": null,
   "metadata": {},
   "outputs": [],
   "source": [
    "def upsample(features, target, repeat):\n",
    "    features_zeros = features[target == 0]\n",
    "    features_ones = features[target == 1]\n",
    "    target_zeros = target[target == 0]\n",
    "    target_ones = target[target == 1]\n",
    "    \n",
    "    upsampled_features = pd.concat([features_ones] + [features_zeros] * repeat)\n",
    "    upsampled_target = pd.concat([target_ones] + [target_zeros] * repeat)\n",
    "    \n",
    "    upsampled_features, upsampled_target = shuffle(upsampled_features, upsampled_target, random_state=1)\n",
    "    \n",
    "    return upsampled_features, upsampled_target\n",
    "\n",
    "best_f1 = 0\n",
    "best_repeat = 0\n",
    "for repeat in range(0, 10):\n",
    "    upsampled_features, upsampled_target = upsample(train_features, train_target, repeat)\n",
    "    \n",
    "    model = RandomForestClassifier(random_state=1, n_estimators=169)\n",
    "    model.fit(upsampled_features, upsampled_target)\n",
    "    valid_predicted = model.predict(valid_features)\n",
    "    f1_score = f1_score(valid_target, valid_predicted)\n",
    "    \n",
    "    if f1_score > best_f1:\n",
    "        best_f1 = f1_score\n",
    "        best_repeat = repeat\n",
    "        \n",
    "print('Best F1 Score Achieved:', best_f1)\n",
    "print('Best Repeat:', best_repeat)"
   ]
  },
  {
   "cell_type": "code",
   "execution_count": null,
   "metadata": {},
   "outputs": [],
   "source": [
    "valid_proba = model.predict_proba(valid_features)\n",
    "valid_proba_1 = valid_proba[:, 1]\n",
    "roc_auc_score(valid_target, valid_proba_1)"
   ]
  },
  {
   "cell_type": "markdown",
   "metadata": {},
   "source": [
    "Upsampling does not seem to be helping the model, either.  However, downsampling has already helped us achieve the F1 score needed.  Let's see how it performs with the test set.\n",
    "## Final Test\n",
    "Now that we have a model that has achieved the desired minimum F1 score, I will run it with our test set to see how it performs."
   ]
  },
  {
   "cell_type": "code",
   "execution_count": null,
   "metadata": {},
   "outputs": [],
   "source": [
    "model = RandomForestClassifier(random_state=1, n_estimators=169)\n",
    "model.fit(downsampled_features, downsampled_target)\n",
    "test_predicted = model.predict(test_features)\n",
    "f1_score(test_target, test_predicted)"
   ]
  },
  {
   "cell_type": "code",
   "execution_count": null,
   "metadata": {},
   "outputs": [],
   "source": [
    "valid_proba = model.predict_proba(valid_features)\n",
    "valid_proba_1 = valid_proba[:, 1]\n",
    "roc_auc_score(valid_target, valid_proba_1)"
   ]
  },
  {
   "cell_type": "code",
   "execution_count": null,
   "metadata": {},
   "outputs": [],
   "source": [
    "test_predicted = pd.Series(test_predicted)\n",
    "test_predicted.value_counts(normalize=True)"
   ]
  },
  {
   "cell_type": "markdown",
   "metadata": {},
   "source": [
    "The model performed even better with the test set, achieving an F1 score of 0.61 while maintaining its AUC-ROC score!  Furthermore, its class predictions are much more aligned with the reality currently facing Beta Bank: the model predicts 79% of the dataset will stay with the bank, while 21% will leave... sounds like the customer retention team has at least 1% of customers they need to focus on ASAP!\n",
    "\n",
    "## Conclusion\n",
    "Beta Bank's future is in jeopardy as increasing numbers of customers leave the bank.  In an effort to better predict which customers are likely to leave the bank, I developed a machine learning model to predict customer churn so that customer relations can better target their efforts on clients who are likely considering leaving the bank.  The goal was to create a model that achieves an F1 score of 0.59 or better, ensuring accurate predictions with minimal false negatives and false positives.\n",
    "\n",
    "The final model uses the RandomForestClassifier trained with a downsampled target and downsampled features to address class imbalance and achieve an F1 score of 0.61 on the test set and a very good AUC-ROC score.  Its predictions align closely with the actual distribution of customer churn for the data set.  This tool can now be applied to datasets containing information on current customers to identify on which customers the bank should focus its customer retention strategies.  Hopefully, with the predictions of this model and solid retention strategies, Beta Bank can be saved!"
   ]
  }
 ],
 "metadata": {
  "ExecuteTimeLog": [
   {
    "duration": 1240,
    "start_time": "2024-07-22T17:25:51.280Z"
   },
   {
    "duration": 65,
    "start_time": "2024-07-22T17:26:42.821Z"
   },
   {
    "duration": 55,
    "start_time": "2024-07-22T17:27:11.307Z"
   },
   {
    "duration": 19,
    "start_time": "2024-07-22T17:27:57.073Z"
   },
   {
    "duration": 318,
    "start_time": "2024-07-22T22:14:28.967Z"
   },
   {
    "duration": 1197,
    "start_time": "2024-07-22T22:14:41.035Z"
   },
   {
    "duration": 65,
    "start_time": "2024-07-22T22:14:42.236Z"
   },
   {
    "duration": 51,
    "start_time": "2024-07-22T22:14:42.304Z"
   },
   {
    "duration": 17,
    "start_time": "2024-07-22T22:14:42.358Z"
   },
   {
    "duration": 1245,
    "start_time": "2024-07-22T22:14:42.378Z"
   },
   {
    "duration": 86,
    "start_time": "2024-07-22T22:15:02.783Z"
   },
   {
    "duration": 4,
    "start_time": "2024-07-22T22:15:12.747Z"
   },
   {
    "duration": 48,
    "start_time": "2024-07-22T22:15:15.417Z"
   },
   {
    "duration": 264,
    "start_time": "2024-07-22T22:15:23.748Z"
   },
   {
    "duration": 30,
    "start_time": "2024-07-22T22:16:39.036Z"
   },
   {
    "duration": 4,
    "start_time": "2024-07-22T22:40:05.198Z"
   },
   {
    "duration": 3,
    "start_time": "2024-07-22T22:40:09.524Z"
   },
   {
    "duration": 30,
    "start_time": "2024-07-22T22:40:13.278Z"
   },
   {
    "duration": 29,
    "start_time": "2024-07-22T22:43:58.891Z"
   },
   {
    "duration": 49,
    "start_time": "2024-07-22T22:44:15.093Z"
   },
   {
    "duration": 46,
    "start_time": "2024-07-22T22:46:41.287Z"
   },
   {
    "duration": 28,
    "start_time": "2024-07-22T22:46:50.888Z"
   },
   {
    "duration": 61,
    "start_time": "2024-07-22T22:49:59.620Z"
   },
   {
    "duration": 80,
    "start_time": "2024-07-22T22:50:08.082Z"
   },
   {
    "duration": 26,
    "start_time": "2024-07-22T22:50:28.452Z"
   },
   {
    "duration": 80,
    "start_time": "2024-07-22T22:50:34.294Z"
   },
   {
    "duration": 24,
    "start_time": "2024-07-22T22:51:15.870Z"
   },
   {
    "duration": 87,
    "start_time": "2024-07-22T22:51:24.783Z"
   },
   {
    "duration": 34,
    "start_time": "2024-07-22T22:53:04.127Z"
   },
   {
    "duration": 108,
    "start_time": "2024-07-22T22:53:14.150Z"
   },
   {
    "duration": 8,
    "start_time": "2024-07-22T22:53:30.676Z"
   },
   {
    "duration": 28,
    "start_time": "2024-07-22T22:53:36.444Z"
   },
   {
    "duration": 6,
    "start_time": "2024-07-22T22:53:51.018Z"
   },
   {
    "duration": 6,
    "start_time": "2024-07-22T22:53:56.982Z"
   },
   {
    "duration": 10,
    "start_time": "2024-07-22T22:54:01.750Z"
   },
   {
    "duration": 315,
    "start_time": "2024-07-22T23:40:41.607Z"
   },
   {
    "duration": 21,
    "start_time": "2024-07-22T23:40:56.793Z"
   },
   {
    "duration": 1186,
    "start_time": "2024-07-22T23:41:04.403Z"
   },
   {
    "duration": 67,
    "start_time": "2024-07-22T23:41:05.592Z"
   },
   {
    "duration": 49,
    "start_time": "2024-07-22T23:41:05.662Z"
   },
   {
    "duration": 30,
    "start_time": "2024-07-22T23:41:05.714Z"
   },
   {
    "duration": 6,
    "start_time": "2024-07-22T23:41:05.748Z"
   },
   {
    "duration": 29,
    "start_time": "2024-07-22T23:41:05.757Z"
   },
   {
    "duration": 80,
    "start_time": "2024-07-22T23:41:05.792Z"
   },
   {
    "duration": 11,
    "start_time": "2024-07-22T23:41:05.875Z"
   },
   {
    "duration": 53,
    "start_time": "2024-07-22T23:41:05.889Z"
   },
   {
    "duration": 29,
    "start_time": "2024-07-22T23:43:15.207Z"
   },
   {
    "duration": 27,
    "start_time": "2024-07-22T23:43:24.640Z"
   },
   {
    "duration": 397,
    "start_time": "2024-07-22T23:43:43.482Z"
   },
   {
    "duration": 30,
    "start_time": "2024-07-22T23:43:54.916Z"
   },
   {
    "duration": 29,
    "start_time": "2024-07-22T23:44:04.805Z"
   },
   {
    "duration": 825,
    "start_time": "2024-07-22T23:54:07.453Z"
   },
   {
    "duration": 309,
    "start_time": "2024-07-23T00:44:40.374Z"
   },
   {
    "duration": 1223,
    "start_time": "2024-07-23T00:44:46.786Z"
   },
   {
    "duration": 89,
    "start_time": "2024-07-23T00:44:48.013Z"
   },
   {
    "duration": 53,
    "start_time": "2024-07-23T00:44:48.105Z"
   },
   {
    "duration": 16,
    "start_time": "2024-07-23T00:44:48.161Z"
   },
   {
    "duration": 4,
    "start_time": "2024-07-23T00:44:48.181Z"
   },
   {
    "duration": 57,
    "start_time": "2024-07-23T00:44:48.189Z"
   },
   {
    "duration": 50,
    "start_time": "2024-07-23T00:44:48.248Z"
   },
   {
    "duration": 35,
    "start_time": "2024-07-23T00:44:48.301Z"
   },
   {
    "duration": 28,
    "start_time": "2024-07-23T00:44:48.339Z"
   },
   {
    "duration": 14,
    "start_time": "2024-07-23T00:44:48.370Z"
   },
   {
    "duration": 1192,
    "start_time": "2024-07-23T00:45:00.454Z"
   },
   {
    "duration": 13,
    "start_time": "2024-07-23T00:45:06.155Z"
   },
   {
    "duration": 12,
    "start_time": "2024-07-23T00:46:42.503Z"
   },
   {
    "duration": 5,
    "start_time": "2024-07-23T00:50:51.977Z"
   },
   {
    "duration": 89,
    "start_time": "2024-07-23T00:51:00.416Z"
   },
   {
    "duration": 78,
    "start_time": "2024-07-23T00:51:15.388Z"
   },
   {
    "duration": 46,
    "start_time": "2024-07-23T00:51:25.269Z"
   },
   {
    "duration": 77,
    "start_time": "2024-07-23T00:51:30.529Z"
   },
   {
    "duration": 703,
    "start_time": "2024-07-23T00:51:34.072Z"
   },
   {
    "duration": 5,
    "start_time": "2024-07-23T00:51:39.104Z"
   },
   {
    "duration": 55,
    "start_time": "2024-07-23T00:51:41.147Z"
   },
   {
    "duration": 49,
    "start_time": "2024-07-23T00:51:45.086Z"
   },
   {
    "duration": 16,
    "start_time": "2024-07-23T00:51:47.786Z"
   },
   {
    "duration": 4,
    "start_time": "2024-07-23T00:51:51.485Z"
   },
   {
    "duration": 31,
    "start_time": "2024-07-23T00:51:53.435Z"
   },
   {
    "duration": 49,
    "start_time": "2024-07-23T00:51:56.573Z"
   },
   {
    "duration": 10,
    "start_time": "2024-07-23T00:51:59.254Z"
   },
   {
    "duration": 28,
    "start_time": "2024-07-23T00:52:02.915Z"
   },
   {
    "duration": 18,
    "start_time": "2024-07-23T00:52:06.222Z"
   },
   {
    "duration": 96,
    "start_time": "2024-07-23T00:53:37.419Z"
   },
   {
    "duration": 98,
    "start_time": "2024-07-23T00:53:49.943Z"
   },
   {
    "duration": 67,
    "start_time": "2024-07-23T00:53:56.748Z"
   },
   {
    "duration": 4,
    "start_time": "2024-07-23T00:54:00.826Z"
   },
   {
    "duration": 43,
    "start_time": "2024-07-23T00:54:03.170Z"
   },
   {
    "duration": 50,
    "start_time": "2024-07-23T00:54:06.257Z"
   },
   {
    "duration": 16,
    "start_time": "2024-07-23T00:54:08.750Z"
   },
   {
    "duration": 4,
    "start_time": "2024-07-23T00:54:12.183Z"
   },
   {
    "duration": 28,
    "start_time": "2024-07-23T00:54:14.122Z"
   },
   {
    "duration": 47,
    "start_time": "2024-07-23T00:54:17.936Z"
   },
   {
    "duration": 10,
    "start_time": "2024-07-23T00:54:20.750Z"
   },
   {
    "duration": 27,
    "start_time": "2024-07-23T00:54:23.687Z"
   },
   {
    "duration": 95,
    "start_time": "2024-07-23T00:54:26.780Z"
   },
   {
    "duration": 67,
    "start_time": "2024-07-23T00:54:48.280Z"
   },
   {
    "duration": 72,
    "start_time": "2024-07-23T00:55:05.831Z"
   },
   {
    "duration": 188,
    "start_time": "2024-07-23T00:55:19.999Z"
   },
   {
    "duration": 31,
    "start_time": "2024-07-23T00:55:30.046Z"
   },
   {
    "duration": 4,
    "start_time": "2024-07-23T00:55:32.794Z"
   },
   {
    "duration": 43,
    "start_time": "2024-07-23T00:55:35.221Z"
   },
   {
    "duration": 61,
    "start_time": "2024-07-23T00:55:38.569Z"
   },
   {
    "duration": 16,
    "start_time": "2024-07-23T00:55:40.008Z"
   },
   {
    "duration": 3,
    "start_time": "2024-07-23T00:55:43.671Z"
   },
   {
    "duration": 30,
    "start_time": "2024-07-23T00:55:45.278Z"
   },
   {
    "duration": 48,
    "start_time": "2024-07-23T00:55:49.838Z"
   },
   {
    "duration": 10,
    "start_time": "2024-07-23T00:55:52.600Z"
   },
   {
    "duration": 26,
    "start_time": "2024-07-23T00:55:54.845Z"
   },
   {
    "duration": 68,
    "start_time": "2024-07-23T00:56:02.382Z"
   },
   {
    "duration": 25,
    "start_time": "2024-07-23T00:56:31.523Z"
   },
   {
    "duration": 72,
    "start_time": "2024-07-23T00:56:40.203Z"
   },
   {
    "duration": 35,
    "start_time": "2024-07-23T00:56:45.667Z"
   },
   {
    "duration": 1183,
    "start_time": "2024-07-23T00:57:13.572Z"
   },
   {
    "duration": 52,
    "start_time": "2024-07-23T00:57:14.759Z"
   },
   {
    "duration": 64,
    "start_time": "2024-07-23T00:57:14.814Z"
   },
   {
    "duration": 17,
    "start_time": "2024-07-23T00:57:14.883Z"
   },
   {
    "duration": 4,
    "start_time": "2024-07-23T00:57:14.903Z"
   },
   {
    "duration": 32,
    "start_time": "2024-07-23T00:57:14.934Z"
   },
   {
    "duration": 75,
    "start_time": "2024-07-23T00:57:14.969Z"
   },
   {
    "duration": 13,
    "start_time": "2024-07-23T00:57:15.046Z"
   },
   {
    "duration": 29,
    "start_time": "2024-07-23T00:57:15.062Z"
   },
   {
    "duration": 38,
    "start_time": "2024-07-23T00:57:15.096Z"
   },
   {
    "duration": 36,
    "start_time": "2024-07-23T00:57:15.137Z"
   },
   {
    "duration": 12,
    "start_time": "2024-07-23T00:59:33.590Z"
   },
   {
    "duration": 13,
    "start_time": "2024-07-23T00:59:53.674Z"
   },
   {
    "duration": 1205,
    "start_time": "2024-07-23T01:57:15.987Z"
   },
   {
    "duration": 65,
    "start_time": "2024-07-23T01:57:17.196Z"
   },
   {
    "duration": 69,
    "start_time": "2024-07-23T01:57:17.264Z"
   },
   {
    "duration": 16,
    "start_time": "2024-07-23T01:57:17.337Z"
   },
   {
    "duration": 4,
    "start_time": "2024-07-23T01:57:17.355Z"
   },
   {
    "duration": 34,
    "start_time": "2024-07-23T01:57:17.363Z"
   },
   {
    "duration": 46,
    "start_time": "2024-07-23T01:57:17.433Z"
   },
   {
    "duration": 11,
    "start_time": "2024-07-23T01:57:17.482Z"
   },
   {
    "duration": 56,
    "start_time": "2024-07-23T01:57:17.497Z"
   },
   {
    "duration": 5,
    "start_time": "2024-07-23T01:57:17.557Z"
   },
   {
    "duration": 33,
    "start_time": "2024-07-23T01:57:17.566Z"
   },
   {
    "duration": 12,
    "start_time": "2024-07-23T01:57:17.632Z"
   },
   {
    "duration": 1732,
    "start_time": "2024-07-23T02:06:12.274Z"
   },
   {
    "duration": 68,
    "start_time": "2024-07-23T02:07:52.643Z"
   },
   {
    "duration": 5,
    "start_time": "2024-07-23T02:07:58.768Z"
   },
   {
    "duration": 46,
    "start_time": "2024-07-23T02:07:58.779Z"
   },
   {
    "duration": 49,
    "start_time": "2024-07-23T02:07:58.829Z"
   },
   {
    "duration": 16,
    "start_time": "2024-07-23T02:07:58.881Z"
   },
   {
    "duration": 4,
    "start_time": "2024-07-23T02:07:58.900Z"
   },
   {
    "duration": 28,
    "start_time": "2024-07-23T02:07:58.934Z"
   },
   {
    "duration": 67,
    "start_time": "2024-07-23T02:07:58.965Z"
   },
   {
    "duration": 11,
    "start_time": "2024-07-23T02:07:59.035Z"
   },
   {
    "duration": 6,
    "start_time": "2024-07-23T02:07:59.048Z"
   },
   {
    "duration": 33,
    "start_time": "2024-07-23T02:07:59.057Z"
   },
   {
    "duration": 49,
    "start_time": "2024-07-23T02:07:59.093Z"
   },
   {
    "duration": 88,
    "start_time": "2024-07-23T02:07:59.145Z"
   },
   {
    "duration": 70,
    "start_time": "2024-07-23T02:08:31.132Z"
   },
   {
    "duration": 8,
    "start_time": "2024-07-23T02:09:03.887Z"
   },
   {
    "duration": 13,
    "start_time": "2024-07-23T02:11:48.804Z"
   },
   {
    "duration": 13,
    "start_time": "2024-07-23T02:13:44.651Z"
   },
   {
    "duration": 9,
    "start_time": "2024-07-23T02:15:51.501Z"
   },
   {
    "duration": 10,
    "start_time": "2024-07-23T02:16:12.500Z"
   },
   {
    "duration": 12,
    "start_time": "2024-07-23T02:16:31.833Z"
   },
   {
    "duration": 87,
    "start_time": "2024-07-23T02:18:39.324Z"
   },
   {
    "duration": 176,
    "start_time": "2024-07-23T02:18:56.282Z"
   },
   {
    "duration": 169,
    "start_time": "2024-07-23T02:19:16.364Z"
   },
   {
    "duration": 228,
    "start_time": "2024-07-23T02:19:20.612Z"
   },
   {
    "duration": 556,
    "start_time": "2024-07-23T02:23:48.865Z"
   },
   {
    "duration": 1915,
    "start_time": "2024-07-23T02:24:03.661Z"
   },
   {
    "duration": 4144,
    "start_time": "2024-07-23T02:24:13.329Z"
   },
   {
    "duration": 42,
    "start_time": "2024-07-23T02:25:41.605Z"
   },
   {
    "duration": 5,
    "start_time": "2024-07-23T02:32:54.825Z"
   },
   {
    "duration": 8,
    "start_time": "2024-07-23T02:33:04.395Z"
   },
   {
    "duration": 197,
    "start_time": "2024-07-23T02:39:22.850Z"
   },
   {
    "duration": 216,
    "start_time": "2024-07-23T02:39:29.331Z"
   },
   {
    "duration": 9,
    "start_time": "2024-07-23T02:41:31.571Z"
   },
   {
    "duration": 117,
    "start_time": "2024-07-23T02:42:18.754Z"
   },
   {
    "duration": 200,
    "start_time": "2024-07-23T02:42:22.855Z"
   },
   {
    "duration": 7,
    "start_time": "2024-07-23T02:46:26.956Z"
   },
   {
    "duration": 24,
    "start_time": "2024-07-23T02:47:50.607Z"
   },
   {
    "duration": 7,
    "start_time": "2024-07-23T02:47:58.702Z"
   },
   {
    "duration": 21,
    "start_time": "2024-07-23T02:51:47.336Z"
   },
   {
    "duration": 5,
    "start_time": "2024-07-23T02:52:40.782Z"
   },
   {
    "duration": 9,
    "start_time": "2024-07-23T02:52:47.543Z"
   },
   {
    "duration": 5,
    "start_time": "2024-07-23T02:55:28.717Z"
   },
   {
    "duration": 10,
    "start_time": "2024-07-23T02:56:01.860Z"
   },
   {
    "duration": 5,
    "start_time": "2024-07-23T02:57:47.879Z"
   },
   {
    "duration": 8,
    "start_time": "2024-07-23T02:58:09.919Z"
   },
   {
    "duration": 5,
    "start_time": "2024-07-23T03:01:31.656Z"
   },
   {
    "duration": 24,
    "start_time": "2024-07-23T03:06:33.294Z"
   },
   {
    "duration": 5,
    "start_time": "2024-07-23T03:06:50.848Z"
   },
   {
    "duration": 8,
    "start_time": "2024-07-23T03:06:55.062Z"
   },
   {
    "duration": 5,
    "start_time": "2024-07-23T03:07:34.077Z"
   },
   {
    "duration": 308,
    "start_time": "2024-07-23T20:36:53.100Z"
   },
   {
    "duration": 1302,
    "start_time": "2024-07-23T20:37:02.322Z"
   },
   {
    "duration": 62,
    "start_time": "2024-07-23T20:37:03.628Z"
   },
   {
    "duration": 80,
    "start_time": "2024-07-23T20:37:03.694Z"
   },
   {
    "duration": 17,
    "start_time": "2024-07-23T20:37:03.779Z"
   },
   {
    "duration": 4,
    "start_time": "2024-07-23T20:37:03.801Z"
   },
   {
    "duration": 52,
    "start_time": "2024-07-23T20:37:03.833Z"
   },
   {
    "duration": 76,
    "start_time": "2024-07-23T20:37:03.889Z"
   },
   {
    "duration": 11,
    "start_time": "2024-07-23T20:37:03.971Z"
   },
   {
    "duration": 5,
    "start_time": "2024-07-23T20:37:03.985Z"
   },
   {
    "duration": 62,
    "start_time": "2024-07-23T20:37:03.996Z"
   },
   {
    "duration": 12,
    "start_time": "2024-07-23T20:37:04.062Z"
   },
   {
    "duration": 10,
    "start_time": "2024-07-23T20:37:04.078Z"
   },
   {
    "duration": 47,
    "start_time": "2024-07-23T20:37:04.092Z"
   },
   {
    "duration": 12,
    "start_time": "2024-07-23T20:37:04.142Z"
   },
   {
    "duration": 275,
    "start_time": "2024-07-23T20:37:04.157Z"
   },
   {
    "duration": 4474,
    "start_time": "2024-07-23T20:37:04.435Z"
   },
   {
    "duration": 50,
    "start_time": "2024-07-23T20:37:08.912Z"
   },
   {
    "duration": 353,
    "start_time": "2024-07-23T20:37:08.965Z"
   },
   {
    "duration": 451,
    "start_time": "2024-07-23T20:37:09.321Z"
   },
   {
    "duration": 0,
    "start_time": "2024-07-23T20:37:09.775Z"
   },
   {
    "duration": 0,
    "start_time": "2024-07-23T20:37:09.776Z"
   },
   {
    "duration": 203,
    "start_time": "2024-07-23T20:37:26.760Z"
   },
   {
    "duration": 8,
    "start_time": "2024-07-23T20:37:32.284Z"
   },
   {
    "duration": 22,
    "start_time": "2024-07-23T20:38:38.499Z"
   },
   {
    "duration": 211,
    "start_time": "2024-07-23T20:38:51.652Z"
   },
   {
    "duration": 23,
    "start_time": "2024-07-23T20:38:53.498Z"
   },
   {
    "duration": 7,
    "start_time": "2024-07-23T20:40:15.253Z"
   },
   {
    "duration": 205,
    "start_time": "2024-07-23T20:41:13.620Z"
   },
   {
    "duration": 211,
    "start_time": "2024-07-23T20:48:50.239Z"
   },
   {
    "duration": 9,
    "start_time": "2024-07-23T20:49:11.581Z"
   },
   {
    "duration": 22,
    "start_time": "2024-07-23T20:49:17.577Z"
   },
   {
    "duration": 217,
    "start_time": "2024-07-23T20:49:20.630Z"
   },
   {
    "duration": 9,
    "start_time": "2024-07-23T20:49:22.390Z"
   },
   {
    "duration": 224,
    "start_time": "2024-07-23T20:49:30.997Z"
   },
   {
    "duration": 9,
    "start_time": "2024-07-23T20:49:32.614Z"
   },
   {
    "duration": 5,
    "start_time": "2024-07-23T21:00:09.243Z"
   },
   {
    "duration": 7,
    "start_time": "2024-07-23T21:00:30.337Z"
   },
   {
    "duration": 7,
    "start_time": "2024-07-23T21:03:10.839Z"
   },
   {
    "duration": 6,
    "start_time": "2024-07-23T21:03:30.142Z"
   },
   {
    "duration": 7,
    "start_time": "2024-07-23T21:05:29.722Z"
   },
   {
    "duration": 6,
    "start_time": "2024-07-23T21:05:48.190Z"
   },
   {
    "duration": 204,
    "start_time": "2024-07-23T21:05:52.875Z"
   },
   {
    "duration": 6,
    "start_time": "2024-07-23T21:05:54.859Z"
   },
   {
    "duration": 8,
    "start_time": "2024-07-23T21:05:57.242Z"
   },
   {
    "duration": 7,
    "start_time": "2024-07-23T21:05:58.468Z"
   },
   {
    "duration": 8,
    "start_time": "2024-07-23T21:05:59.843Z"
   },
   {
    "duration": 210,
    "start_time": "2024-07-23T21:06:19.887Z"
   },
   {
    "duration": 9,
    "start_time": "2024-07-23T21:06:20.889Z"
   },
   {
    "duration": 7,
    "start_time": "2024-07-23T21:06:22.439Z"
   },
   {
    "duration": 9,
    "start_time": "2024-07-23T21:06:23.661Z"
   },
   {
    "duration": 5,
    "start_time": "2024-07-23T21:42:22.154Z"
   },
   {
    "duration": 23,
    "start_time": "2024-07-23T21:43:33.578Z"
   },
   {
    "duration": 17,
    "start_time": "2024-07-23T21:46:55.321Z"
   },
   {
    "duration": 37,
    "start_time": "2024-07-23T21:47:22.752Z"
   },
   {
    "duration": 3969,
    "start_time": "2024-07-23T21:47:35.854Z"
   },
   {
    "duration": 197,
    "start_time": "2024-07-23T21:47:43.605Z"
   },
   {
    "duration": 203,
    "start_time": "2024-07-23T21:48:16.544Z"
   },
   {
    "duration": 5,
    "start_time": "2024-07-23T21:49:10.233Z"
   },
   {
    "duration": 203,
    "start_time": "2024-07-23T21:49:19.185Z"
   },
   {
    "duration": 21,
    "start_time": "2024-07-23T21:50:07.172Z"
   },
   {
    "duration": 212,
    "start_time": "2024-07-23T21:58:16.627Z"
   },
   {
    "duration": 9,
    "start_time": "2024-07-23T21:58:18.983Z"
   },
   {
    "duration": 21,
    "start_time": "2024-07-23T21:58:22.869Z"
   },
   {
    "duration": 209,
    "start_time": "2024-07-23T21:58:36.565Z"
   },
   {
    "duration": 9,
    "start_time": "2024-07-23T21:58:38.096Z"
   },
   {
    "duration": 21,
    "start_time": "2024-07-23T21:58:38.752Z"
   },
   {
    "duration": 6,
    "start_time": "2024-07-23T21:58:46.615Z"
   },
   {
    "duration": 59,
    "start_time": "2024-07-23T21:58:46.625Z"
   },
   {
    "duration": 70,
    "start_time": "2024-07-23T21:58:46.687Z"
   },
   {
    "duration": 16,
    "start_time": "2024-07-23T21:58:46.761Z"
   },
   {
    "duration": 4,
    "start_time": "2024-07-23T21:58:46.780Z"
   },
   {
    "duration": 67,
    "start_time": "2024-07-23T21:58:46.787Z"
   },
   {
    "duration": 46,
    "start_time": "2024-07-23T21:58:46.859Z"
   },
   {
    "duration": 27,
    "start_time": "2024-07-23T21:58:46.909Z"
   },
   {
    "duration": 6,
    "start_time": "2024-07-23T21:58:46.939Z"
   },
   {
    "duration": 31,
    "start_time": "2024-07-23T21:58:46.952Z"
   },
   {
    "duration": 47,
    "start_time": "2024-07-23T21:58:46.986Z"
   },
   {
    "duration": 8,
    "start_time": "2024-07-23T21:58:47.036Z"
   },
   {
    "duration": 12,
    "start_time": "2024-07-23T21:58:47.048Z"
   },
   {
    "duration": 10,
    "start_time": "2024-07-23T21:58:47.064Z"
   },
   {
    "duration": 274,
    "start_time": "2024-07-23T21:58:47.078Z"
   },
   {
    "duration": 4133,
    "start_time": "2024-07-23T21:58:47.355Z"
   },
   {
    "duration": 47,
    "start_time": "2024-07-23T21:58:51.491Z"
   },
   {
    "duration": 363,
    "start_time": "2024-07-23T21:58:51.542Z"
   },
   {
    "duration": 6,
    "start_time": "2024-07-23T21:58:51.908Z"
   },
   {
    "duration": 10,
    "start_time": "2024-07-23T21:58:51.932Z"
   },
   {
    "duration": 23,
    "start_time": "2024-07-23T21:58:51.946Z"
   },
   {
    "duration": 265,
    "start_time": "2024-07-23T21:58:51.972Z"
   },
   {
    "duration": 10,
    "start_time": "2024-07-23T21:58:52.240Z"
   },
   {
    "duration": 22,
    "start_time": "2024-07-23T21:58:52.253Z"
   },
   {
    "duration": 5163,
    "start_time": "2024-07-24T03:35:08.428Z"
   },
   {
    "duration": 61,
    "start_time": "2024-07-24T03:35:13.594Z"
   },
   {
    "duration": 62,
    "start_time": "2024-07-24T03:35:13.658Z"
   },
   {
    "duration": 16,
    "start_time": "2024-07-24T03:35:13.725Z"
   },
   {
    "duration": 4,
    "start_time": "2024-07-24T03:35:13.744Z"
   },
   {
    "duration": 64,
    "start_time": "2024-07-24T03:35:13.751Z"
   },
   {
    "duration": 49,
    "start_time": "2024-07-24T03:35:13.818Z"
   },
   {
    "duration": 42,
    "start_time": "2024-07-24T03:35:13.871Z"
   },
   {
    "duration": 7,
    "start_time": "2024-07-24T03:35:13.915Z"
   },
   {
    "duration": 41,
    "start_time": "2024-07-24T03:35:13.933Z"
   },
   {
    "duration": 33,
    "start_time": "2024-07-24T03:35:13.977Z"
   },
   {
    "duration": 9,
    "start_time": "2024-07-24T03:35:14.012Z"
   },
   {
    "duration": 13,
    "start_time": "2024-07-24T03:35:14.024Z"
   },
   {
    "duration": 10,
    "start_time": "2024-07-24T03:35:14.040Z"
   },
   {
    "duration": 291,
    "start_time": "2024-07-24T03:35:14.053Z"
   },
   {
    "duration": 4169,
    "start_time": "2024-07-24T03:35:14.347Z"
   },
   {
    "duration": 88,
    "start_time": "2024-07-24T03:35:18.520Z"
   },
   {
    "duration": 278,
    "start_time": "2024-07-24T03:35:18.616Z"
   },
   {
    "duration": 14,
    "start_time": "2024-07-24T03:35:18.897Z"
   },
   {
    "duration": 9,
    "start_time": "2024-07-24T03:35:18.914Z"
   },
   {
    "duration": 21,
    "start_time": "2024-07-24T03:35:18.929Z"
   },
   {
    "duration": 248,
    "start_time": "2024-07-24T03:35:18.953Z"
   },
   {
    "duration": 9,
    "start_time": "2024-07-24T03:35:19.209Z"
   },
   {
    "duration": 22,
    "start_time": "2024-07-24T03:35:19.222Z"
   },
   {
    "duration": 4,
    "start_time": "2024-07-24T03:40:20.415Z"
   },
   {
    "duration": 7,
    "start_time": "2024-07-24T03:41:57.791Z"
   },
   {
    "duration": 8,
    "start_time": "2024-07-24T03:43:11.654Z"
   },
   {
    "duration": 10,
    "start_time": "2024-07-24T03:43:41.025Z"
   },
   {
    "duration": 6,
    "start_time": "2024-07-24T03:43:48.294Z"
   },
   {
    "duration": 7,
    "start_time": "2024-07-24T03:51:23.193Z"
   },
   {
    "duration": 505,
    "start_time": "2024-07-24T04:22:04.172Z"
   },
   {
    "duration": 5,
    "start_time": "2024-07-24T04:22:09.960Z"
   },
   {
    "duration": 12,
    "start_time": "2024-07-24T04:24:59.920Z"
   },
   {
    "duration": 31,
    "start_time": "2024-07-24T04:30:45.934Z"
   },
   {
    "duration": 557,
    "start_time": "2024-07-24T04:31:00.651Z"
   },
   {
    "duration": 104,
    "start_time": "2024-07-24T04:32:14.278Z"
   },
   {
    "duration": 18,
    "start_time": "2024-07-24T04:32:56.231Z"
   },
   {
    "duration": 130,
    "start_time": "2024-07-24T04:39:33.263Z"
   },
   {
    "duration": 23,
    "start_time": "2024-07-24T04:40:07.091Z"
   },
   {
    "duration": 9,
    "start_time": "2024-07-24T04:40:28.817Z"
   },
   {
    "duration": 20,
    "start_time": "2024-07-24T04:40:46.768Z"
   },
   {
    "duration": 17,
    "start_time": "2024-07-24T04:41:38.482Z"
   },
   {
    "duration": 115,
    "start_time": "2024-07-24T04:41:40.384Z"
   },
   {
    "duration": 18,
    "start_time": "2024-07-24T04:41:44.682Z"
   },
   {
    "duration": 16,
    "start_time": "2024-07-24T04:41:49.429Z"
   },
   {
    "duration": 115,
    "start_time": "2024-07-24T04:41:50.131Z"
   },
   {
    "duration": 10,
    "start_time": "2024-07-24T04:41:51.114Z"
   },
   {
    "duration": 18,
    "start_time": "2024-07-24T04:41:52.183Z"
   },
   {
    "duration": 17,
    "start_time": "2024-07-24T04:41:57.755Z"
   },
   {
    "duration": 144,
    "start_time": "2024-07-24T04:41:59.316Z"
   },
   {
    "duration": 9,
    "start_time": "2024-07-24T04:42:00.911Z"
   },
   {
    "duration": 21,
    "start_time": "2024-07-24T04:42:07.339Z"
   },
   {
    "duration": 16,
    "start_time": "2024-07-24T04:42:22.165Z"
   },
   {
    "duration": 130,
    "start_time": "2024-07-24T04:42:23.952Z"
   },
   {
    "duration": 9,
    "start_time": "2024-07-24T04:42:25.132Z"
   },
   {
    "duration": 19,
    "start_time": "2024-07-24T04:42:26.381Z"
   },
   {
    "duration": 36,
    "start_time": "2024-07-25T04:40:41.197Z"
   },
   {
    "duration": 45,
    "start_time": "2024-07-25T04:40:41.235Z"
   },
   {
    "duration": 77,
    "start_time": "2024-07-25T04:40:41.283Z"
   },
   {
    "duration": 17,
    "start_time": "2024-07-25T04:40:41.362Z"
   },
   {
    "duration": 4,
    "start_time": "2024-07-25T04:40:41.382Z"
   },
   {
    "duration": 65,
    "start_time": "2024-07-25T04:40:41.389Z"
   },
   {
    "duration": 47,
    "start_time": "2024-07-25T04:40:41.457Z"
   },
   {
    "duration": 33,
    "start_time": "2024-07-25T04:40:41.507Z"
   },
   {
    "duration": 6,
    "start_time": "2024-07-25T04:40:41.543Z"
   },
   {
    "duration": 33,
    "start_time": "2024-07-25T04:40:41.552Z"
   },
   {
    "duration": 49,
    "start_time": "2024-07-25T04:40:41.588Z"
   },
   {
    "duration": 20,
    "start_time": "2024-07-25T04:40:41.641Z"
   },
   {
    "duration": 11,
    "start_time": "2024-07-25T04:40:41.671Z"
   },
   {
    "duration": 17,
    "start_time": "2024-07-25T04:40:41.685Z"
   },
   {
    "duration": 275,
    "start_time": "2024-07-25T04:40:41.705Z"
   },
   {
    "duration": 4338,
    "start_time": "2024-07-25T04:40:41.983Z"
   },
   {
    "duration": 104,
    "start_time": "2024-07-25T04:40:46.328Z"
   },
   {
    "duration": 293,
    "start_time": "2024-07-25T04:40:46.435Z"
   },
   {
    "duration": 7,
    "start_time": "2024-07-25T04:40:46.734Z"
   },
   {
    "duration": 9,
    "start_time": "2024-07-25T04:40:46.745Z"
   },
   {
    "duration": 21,
    "start_time": "2024-07-25T04:40:46.757Z"
   },
   {
    "duration": 262,
    "start_time": "2024-07-25T04:40:46.780Z"
   },
   {
    "duration": 9,
    "start_time": "2024-07-25T04:40:47.045Z"
   },
   {
    "duration": 26,
    "start_time": "2024-07-25T04:40:47.057Z"
   },
   {
    "duration": 48,
    "start_time": "2024-07-25T04:40:47.086Z"
   },
   {
    "duration": 141,
    "start_time": "2024-07-25T04:40:47.143Z"
   },
   {
    "duration": 8,
    "start_time": "2024-07-25T04:40:47.288Z"
   },
   {
    "duration": 36,
    "start_time": "2024-07-25T04:40:47.300Z"
   },
   {
    "duration": 476,
    "start_time": "2024-07-25T04:53:25.789Z"
   },
   {
    "duration": 6,
    "start_time": "2024-07-25T04:53:40.593Z"
   },
   {
    "duration": 48,
    "start_time": "2024-07-25T04:53:46.172Z"
   },
   {
    "duration": 50,
    "start_time": "2024-07-25T04:57:04.793Z"
   },
   {
    "duration": 48,
    "start_time": "2024-07-25T04:58:09.612Z"
   },
   {
    "duration": 37,
    "start_time": "2024-07-25T05:01:39.989Z"
   },
   {
    "duration": 6,
    "start_time": "2024-07-25T05:03:34.231Z"
   },
   {
    "duration": 5,
    "start_time": "2024-07-25T05:03:58.473Z"
   },
   {
    "duration": 20,
    "start_time": "2024-07-25T05:05:03.884Z"
   },
   {
    "duration": 133,
    "start_time": "2024-07-25T05:05:05.750Z"
   },
   {
    "duration": 9,
    "start_time": "2024-07-25T05:05:08.231Z"
   },
   {
    "duration": 19,
    "start_time": "2024-07-25T05:05:11.558Z"
   },
   {
    "duration": 16,
    "start_time": "2024-07-25T05:05:22.437Z"
   },
   {
    "duration": 147,
    "start_time": "2024-07-25T05:05:23.286Z"
   },
   {
    "duration": 8,
    "start_time": "2024-07-25T05:05:24.565Z"
   },
   {
    "duration": 22,
    "start_time": "2024-07-25T05:05:30.889Z"
   },
   {
    "duration": 17,
    "start_time": "2024-07-25T05:05:38.646Z"
   },
   {
    "duration": 137,
    "start_time": "2024-07-25T05:05:39.572Z"
   },
   {
    "duration": 8,
    "start_time": "2024-07-25T05:05:40.759Z"
   },
   {
    "duration": 21,
    "start_time": "2024-07-25T05:05:41.985Z"
   },
   {
    "duration": 36,
    "start_time": "2024-07-25T05:05:48.459Z"
   },
   {
    "duration": 37,
    "start_time": "2024-07-25T05:06:34.623Z"
   },
   {
    "duration": 37,
    "start_time": "2024-07-25T05:06:46.441Z"
   },
   {
    "duration": 24,
    "start_time": "2024-07-25T05:07:09.606Z"
   },
   {
    "duration": 37,
    "start_time": "2024-07-25T05:07:18.170Z"
   },
   {
    "duration": 36,
    "start_time": "2024-07-25T05:08:26.132Z"
   },
   {
    "duration": 41,
    "start_time": "2024-07-25T05:21:47.481Z"
   },
   {
    "duration": 229,
    "start_time": "2024-07-25T05:22:48.866Z"
   },
   {
    "duration": 39,
    "start_time": "2024-07-25T05:23:01.406Z"
   },
   {
    "duration": 104,
    "start_time": "2024-07-25T05:23:05.486Z"
   },
   {
    "duration": 116,
    "start_time": "2024-07-25T05:27:00.493Z"
   },
   {
    "duration": 25,
    "start_time": "2024-07-25T05:30:52.712Z"
   },
   {
    "duration": 1009,
    "start_time": "2024-07-25T05:30:54.684Z"
   },
   {
    "duration": 8,
    "start_time": "2024-07-25T05:31:12.604Z"
   },
   {
    "duration": 20,
    "start_time": "2024-07-25T05:31:43.657Z"
   },
   {
    "duration": 22,
    "start_time": "2024-07-25T05:32:04.011Z"
   },
   {
    "duration": 520,
    "start_time": "2024-07-25T05:32:06.277Z"
   },
   {
    "duration": 10,
    "start_time": "2024-07-25T05:32:08.377Z"
   },
   {
    "duration": 26,
    "start_time": "2024-07-25T05:32:10.052Z"
   },
   {
    "duration": 40,
    "start_time": "2024-07-25T05:32:19.406Z"
   },
   {
    "duration": 2042,
    "start_time": "2024-07-25T05:32:20.378Z"
   },
   {
    "duration": 12,
    "start_time": "2024-07-25T05:32:23.363Z"
   },
   {
    "duration": 21,
    "start_time": "2024-07-25T05:32:25.756Z"
   },
   {
    "duration": 16,
    "start_time": "2024-07-25T05:33:30.896Z"
   },
   {
    "duration": 321,
    "start_time": "2024-07-25T05:33:32.642Z"
   },
   {
    "duration": 8,
    "start_time": "2024-07-25T05:33:34.062Z"
   },
   {
    "duration": 21,
    "start_time": "2024-07-25T05:33:35.198Z"
   },
   {
    "duration": 5136,
    "start_time": "2024-07-25T18:27:41.116Z"
   },
   {
    "duration": 69,
    "start_time": "2024-07-25T18:27:46.256Z"
   },
   {
    "duration": 50,
    "start_time": "2024-07-25T18:27:46.328Z"
   },
   {
    "duration": 19,
    "start_time": "2024-07-25T18:27:46.382Z"
   },
   {
    "duration": 5,
    "start_time": "2024-07-25T18:27:46.431Z"
   },
   {
    "duration": 31,
    "start_time": "2024-07-25T18:27:46.439Z"
   },
   {
    "duration": 75,
    "start_time": "2024-07-25T18:27:46.472Z"
   },
   {
    "duration": 11,
    "start_time": "2024-07-25T18:27:46.551Z"
   },
   {
    "duration": 6,
    "start_time": "2024-07-25T18:27:46.564Z"
   },
   {
    "duration": 66,
    "start_time": "2024-07-25T18:27:46.574Z"
   },
   {
    "duration": 12,
    "start_time": "2024-07-25T18:27:46.644Z"
   },
   {
    "duration": 8,
    "start_time": "2024-07-25T18:27:46.659Z"
   },
   {
    "duration": 12,
    "start_time": "2024-07-25T18:27:46.670Z"
   },
   {
    "duration": 52,
    "start_time": "2024-07-25T18:27:46.688Z"
   },
   {
    "duration": 252,
    "start_time": "2024-07-25T18:27:46.744Z"
   },
   {
    "duration": 4168,
    "start_time": "2024-07-25T18:27:47.001Z"
   },
   {
    "duration": 60,
    "start_time": "2024-07-25T18:27:51.172Z"
   },
   {
    "duration": 311,
    "start_time": "2024-07-25T18:27:51.235Z"
   },
   {
    "duration": 7,
    "start_time": "2024-07-25T18:27:51.549Z"
   },
   {
    "duration": 9,
    "start_time": "2024-07-25T18:27:51.560Z"
   },
   {
    "duration": 59,
    "start_time": "2024-07-25T18:27:51.572Z"
   },
   {
    "duration": 232,
    "start_time": "2024-07-25T18:27:51.634Z"
   },
   {
    "duration": 9,
    "start_time": "2024-07-25T18:27:51.869Z"
   },
   {
    "duration": 20,
    "start_time": "2024-07-25T18:27:51.880Z"
   },
   {
    "duration": 19,
    "start_time": "2024-07-25T18:27:51.931Z"
   },
   {
    "duration": 167,
    "start_time": "2024-07-25T18:27:51.954Z"
   },
   {
    "duration": 19,
    "start_time": "2024-07-25T18:27:52.124Z"
   },
   {
    "duration": 21,
    "start_time": "2024-07-25T18:27:52.147Z"
   },
   {
    "duration": 76,
    "start_time": "2024-07-25T18:27:52.171Z"
   },
   {
    "duration": 17,
    "start_time": "2024-07-25T18:27:52.253Z"
   },
   {
    "duration": 363,
    "start_time": "2024-07-25T18:27:52.273Z"
   },
   {
    "duration": 9,
    "start_time": "2024-07-25T18:27:52.640Z"
   },
   {
    "duration": 20,
    "start_time": "2024-07-25T18:27:52.654Z"
   },
   {
    "duration": 900,
    "start_time": "2024-07-25T18:30:33.105Z"
   },
   {
    "duration": 340,
    "start_time": "2024-07-25T18:31:44.613Z"
   },
   {
    "duration": 43862,
    "start_time": "2024-07-25T18:32:10.362Z"
   },
   {
    "duration": 138831,
    "start_time": "2024-07-25T18:33:32.829Z"
   },
   {
    "duration": 179844,
    "start_time": "2024-07-25T18:36:25.497Z"
   },
   {
    "duration": 239,
    "start_time": "2024-07-25T18:49:00.450Z"
   },
   {
    "duration": 365,
    "start_time": "2024-07-25T18:49:21.097Z"
   },
   {
    "duration": 46,
    "start_time": "2024-07-25T18:50:53.476Z"
   },
   {
    "duration": 42,
    "start_time": "2024-07-25T18:53:11.510Z"
   },
   {
    "duration": 5,
    "start_time": "2024-07-25T18:54:43.776Z"
   },
   {
    "duration": 29,
    "start_time": "2024-07-25T18:56:48.639Z"
   },
   {
    "duration": 30,
    "start_time": "2024-07-25T18:57:46.358Z"
   },
   {
    "duration": 27,
    "start_time": "2024-07-25T18:58:00.006Z"
   },
   {
    "duration": 8,
    "start_time": "2024-07-25T18:58:30.470Z"
   },
   {
    "duration": 32,
    "start_time": "2024-07-25T18:58:39.414Z"
   },
   {
    "duration": 1444,
    "start_time": "2024-07-25T18:59:43.595Z"
   },
   {
    "duration": 7,
    "start_time": "2024-07-25T18:59:53.184Z"
   },
   {
    "duration": 9,
    "start_time": "2024-07-25T19:00:37.946Z"
   },
   {
    "duration": 8,
    "start_time": "2024-07-25T19:02:00.001Z"
   },
   {
    "duration": 114,
    "start_time": "2024-07-25T19:02:09.038Z"
   },
   {
    "duration": 10,
    "start_time": "2024-07-25T19:03:47.950Z"
   },
   {
    "duration": 403,
    "start_time": "2024-07-25T19:04:11.383Z"
   },
   {
    "duration": 6,
    "start_time": "2024-07-25T19:05:03.052Z"
   },
   {
    "duration": 8,
    "start_time": "2024-07-25T19:05:09.682Z"
   },
   {
    "duration": 11,
    "start_time": "2024-07-25T19:07:00.646Z"
   },
   {
    "duration": 116,
    "start_time": "2024-07-25T19:10:57.916Z"
   },
   {
    "duration": 12,
    "start_time": "2024-07-25T19:13:25.005Z"
   },
   {
    "duration": 79,
    "start_time": "2024-07-25T19:15:19.850Z"
   },
   {
    "duration": 1470,
    "start_time": "2024-07-25T19:16:31.040Z"
   },
   {
    "duration": 80,
    "start_time": "2024-07-25T19:16:34.814Z"
   },
   {
    "duration": 1559,
    "start_time": "2024-07-25T19:19:10.598Z"
   },
   {
    "duration": 80,
    "start_time": "2024-07-25T19:19:19.554Z"
   },
   {
    "duration": 1557,
    "start_time": "2024-07-25T19:27:31.452Z"
   },
   {
    "duration": 78,
    "start_time": "2024-07-25T19:27:35.259Z"
   },
   {
    "duration": 1540,
    "start_time": "2024-07-25T19:45:30.794Z"
   },
   {
    "duration": 1421,
    "start_time": "2024-07-25T19:45:57.653Z"
   },
   {
    "duration": 80,
    "start_time": "2024-07-25T19:46:15.632Z"
   },
   {
    "duration": 1413,
    "start_time": "2024-07-25T19:52:46.378Z"
   },
   {
    "duration": 1443,
    "start_time": "2024-07-25T19:52:56.687Z"
   },
   {
    "duration": 17,
    "start_time": "2024-07-25T19:54:04.072Z"
   },
   {
    "duration": 1523,
    "start_time": "2024-07-25T19:54:55.314Z"
   },
   {
    "duration": 1466,
    "start_time": "2024-07-25T19:55:14.136Z"
   },
   {
    "duration": 317,
    "start_time": "2024-07-25T20:47:45.380Z"
   },
   {
    "duration": 5078,
    "start_time": "2024-07-25T20:47:54.486Z"
   },
   {
    "duration": 66,
    "start_time": "2024-07-25T20:47:59.568Z"
   },
   {
    "duration": 52,
    "start_time": "2024-07-25T20:47:59.638Z"
   },
   {
    "duration": 16,
    "start_time": "2024-07-25T20:47:59.712Z"
   },
   {
    "duration": 4,
    "start_time": "2024-07-25T20:47:59.731Z"
   },
   {
    "duration": 30,
    "start_time": "2024-07-25T20:47:59.739Z"
   },
   {
    "duration": 84,
    "start_time": "2024-07-25T20:47:59.772Z"
   },
   {
    "duration": 11,
    "start_time": "2024-07-25T20:47:59.859Z"
   },
   {
    "duration": 6,
    "start_time": "2024-07-25T20:47:59.872Z"
   },
   {
    "duration": 32,
    "start_time": "2024-07-25T20:47:59.915Z"
   },
   {
    "duration": 11,
    "start_time": "2024-07-25T20:47:59.950Z"
   },
   {
    "duration": 9,
    "start_time": "2024-07-25T20:47:59.964Z"
   },
   {
    "duration": 45,
    "start_time": "2024-07-25T20:47:59.976Z"
   },
   {
    "duration": 12,
    "start_time": "2024-07-25T20:48:00.024Z"
   },
   {
    "duration": 419,
    "start_time": "2024-07-25T20:48:00.039Z"
   },
   {
    "duration": 0,
    "start_time": "2024-07-25T20:51:08.226Z"
   },
   {
    "duration": 0,
    "start_time": "2024-07-25T20:51:08.228Z"
   },
   {
    "duration": 0,
    "start_time": "2024-07-25T20:51:08.230Z"
   },
   {
    "duration": 0,
    "start_time": "2024-07-25T20:51:08.233Z"
   },
   {
    "duration": 0,
    "start_time": "2024-07-25T20:51:08.235Z"
   },
   {
    "duration": 0,
    "start_time": "2024-07-25T20:51:08.237Z"
   },
   {
    "duration": 0,
    "start_time": "2024-07-25T20:51:08.239Z"
   },
   {
    "duration": 0,
    "start_time": "2024-07-25T20:51:08.241Z"
   },
   {
    "duration": 0,
    "start_time": "2024-07-25T20:51:08.244Z"
   },
   {
    "duration": 0,
    "start_time": "2024-07-25T20:51:08.247Z"
   },
   {
    "duration": 0,
    "start_time": "2024-07-25T20:51:08.249Z"
   },
   {
    "duration": 0,
    "start_time": "2024-07-25T20:51:08.251Z"
   },
   {
    "duration": 0,
    "start_time": "2024-07-25T20:51:08.253Z"
   },
   {
    "duration": 0,
    "start_time": "2024-07-25T20:51:08.254Z"
   },
   {
    "duration": 0,
    "start_time": "2024-07-25T20:51:08.311Z"
   },
   {
    "duration": 0,
    "start_time": "2024-07-25T20:51:08.313Z"
   },
   {
    "duration": 0,
    "start_time": "2024-07-25T20:51:08.315Z"
   },
   {
    "duration": 0,
    "start_time": "2024-07-25T20:51:08.318Z"
   },
   {
    "duration": 0,
    "start_time": "2024-07-25T20:51:08.321Z"
   },
   {
    "duration": 0,
    "start_time": "2024-07-25T20:51:08.323Z"
   },
   {
    "duration": 0,
    "start_time": "2024-07-25T20:51:08.326Z"
   },
   {
    "duration": 0,
    "start_time": "2024-07-25T20:51:08.333Z"
   },
   {
    "duration": 0,
    "start_time": "2024-07-25T20:51:08.341Z"
   },
   {
    "duration": 0,
    "start_time": "2024-07-25T20:51:08.343Z"
   },
   {
    "duration": 0,
    "start_time": "2024-07-25T20:51:08.346Z"
   },
   {
    "duration": 0,
    "start_time": "2024-07-25T20:51:08.349Z"
   },
   {
    "duration": 0,
    "start_time": "2024-07-25T20:51:08.352Z"
   },
   {
    "duration": 0,
    "start_time": "2024-07-25T20:51:08.355Z"
   },
   {
    "duration": 0,
    "start_time": "2024-07-25T20:51:08.356Z"
   },
   {
    "duration": 0,
    "start_time": "2024-07-25T20:51:08.357Z"
   },
   {
    "duration": 5,
    "start_time": "2024-07-25T20:51:11.848Z"
   },
   {
    "duration": 47,
    "start_time": "2024-07-25T20:51:13.532Z"
   },
   {
    "duration": 49,
    "start_time": "2024-07-25T20:51:16.796Z"
   },
   {
    "duration": 17,
    "start_time": "2024-07-25T20:51:17.940Z"
   },
   {
    "duration": 4,
    "start_time": "2024-07-25T20:51:22.415Z"
   },
   {
    "duration": 29,
    "start_time": "2024-07-25T20:51:23.961Z"
   },
   {
    "duration": 46,
    "start_time": "2024-07-25T20:51:27.268Z"
   },
   {
    "duration": 10,
    "start_time": "2024-07-25T20:51:48.134Z"
   },
   {
    "duration": 6,
    "start_time": "2024-07-25T20:51:49.336Z"
   },
   {
    "duration": 32,
    "start_time": "2024-07-25T20:51:51.695Z"
   },
   {
    "duration": 11,
    "start_time": "2024-07-25T20:51:59.618Z"
   },
   {
    "duration": 8,
    "start_time": "2024-07-25T20:52:02.487Z"
   },
   {
    "duration": 18,
    "start_time": "2024-07-25T20:52:23.305Z"
   },
   {
    "duration": 13,
    "start_time": "2024-07-25T20:52:24.923Z"
   },
   {
    "duration": 369,
    "start_time": "2024-07-25T20:52:28.449Z"
   },
   {
    "duration": 188667,
    "start_time": "2024-07-25T20:52:38.732Z"
   },
   {
    "duration": 34,
    "start_time": "2024-07-25T20:57:01.885Z"
   },
   {
    "duration": 1527,
    "start_time": "2024-07-25T20:57:05.729Z"
   },
   {
    "duration": 83,
    "start_time": "2024-07-25T20:57:16.307Z"
   },
   {
    "duration": 1490,
    "start_time": "2024-07-25T20:57:28.495Z"
   },
   {
    "duration": 85,
    "start_time": "2024-07-25T20:57:31.984Z"
   },
   {
    "duration": 19,
    "start_time": "2024-07-25T20:58:19.761Z"
   },
   {
    "duration": 981,
    "start_time": "2024-07-25T20:58:23.017Z"
   },
   {
    "duration": 923,
    "start_time": "2024-07-25T20:58:35.498Z"
   },
   {
    "duration": 80,
    "start_time": "2024-07-25T20:58:41.121Z"
   },
   {
    "duration": 5057,
    "start_time": "2024-07-26T02:38:30.009Z"
   },
   {
    "duration": 62,
    "start_time": "2024-07-26T02:38:35.071Z"
   },
   {
    "duration": 53,
    "start_time": "2024-07-26T02:38:35.136Z"
   },
   {
    "duration": 17,
    "start_time": "2024-07-26T02:38:35.208Z"
   },
   {
    "duration": 5,
    "start_time": "2024-07-26T02:38:35.228Z"
   },
   {
    "duration": 30,
    "start_time": "2024-07-26T02:38:35.236Z"
   },
   {
    "duration": 82,
    "start_time": "2024-07-26T02:38:35.269Z"
   },
   {
    "duration": 11,
    "start_time": "2024-07-26T02:38:35.354Z"
   },
   {
    "duration": 38,
    "start_time": "2024-07-26T02:38:35.369Z"
   },
   {
    "duration": 32,
    "start_time": "2024-07-26T02:38:35.415Z"
   },
   {
    "duration": 11,
    "start_time": "2024-07-26T02:38:35.450Z"
   },
   {
    "duration": 44,
    "start_time": "2024-07-26T02:38:35.464Z"
   },
   {
    "duration": 13,
    "start_time": "2024-07-26T02:38:35.511Z"
   },
   {
    "duration": 15,
    "start_time": "2024-07-26T02:38:35.527Z"
   },
   {
    "duration": 414,
    "start_time": "2024-07-26T02:38:35.545Z"
   },
   {
    "duration": 180289,
    "start_time": "2024-07-26T02:38:35.962Z"
   },
   {
    "duration": 55,
    "start_time": "2024-07-26T02:41:36.254Z"
   },
   {
    "duration": 1560,
    "start_time": "2024-07-26T02:41:36.312Z"
   },
   {
    "duration": 96,
    "start_time": "2024-07-26T02:41:37.875Z"
   },
   {
    "duration": 1468,
    "start_time": "2024-07-26T02:41:37.974Z"
   },
   {
    "duration": 95,
    "start_time": "2024-07-26T02:41:39.445Z"
   },
   {
    "duration": 502,
    "start_time": "2024-07-26T02:41:39.543Z"
   },
   {
    "duration": 0,
    "start_time": "2024-07-26T02:41:40.048Z"
   },
   {
    "duration": 0,
    "start_time": "2024-07-26T02:41:40.051Z"
   },
   {
    "duration": 0,
    "start_time": "2024-07-26T02:41:40.053Z"
   },
   {
    "duration": 0,
    "start_time": "2024-07-26T02:41:40.056Z"
   },
   {
    "duration": 0,
    "start_time": "2024-07-26T02:41:40.058Z"
   },
   {
    "duration": 0,
    "start_time": "2024-07-26T02:41:40.060Z"
   },
   {
    "duration": 0,
    "start_time": "2024-07-26T02:41:40.063Z"
   },
   {
    "duration": 38,
    "start_time": "2024-07-26T02:51:25.524Z"
   },
   {
    "duration": 45,
    "start_time": "2024-07-26T02:51:38.414Z"
   },
   {
    "duration": 45,
    "start_time": "2024-07-26T02:53:35.084Z"
   },
   {
    "duration": 20130,
    "start_time": "2024-07-26T02:53:58.644Z"
   },
   {
    "duration": 990,
    "start_time": "2024-07-26T02:55:15.626Z"
   },
   {
    "duration": 99,
    "start_time": "2024-07-26T02:55:24.569Z"
   },
   {
    "duration": 38,
    "start_time": "2024-07-26T02:56:40.572Z"
   },
   {
    "duration": 39604,
    "start_time": "2024-07-26T02:59:20.826Z"
   },
   {
    "duration": 39772,
    "start_time": "2024-07-26T03:00:18.952Z"
   },
   {
    "duration": 84,
    "start_time": "2024-07-26T03:01:32.020Z"
   },
   {
    "duration": 44,
    "start_time": "2024-07-26T03:09:45.222Z"
   },
   {
    "duration": 40071,
    "start_time": "2024-07-26T03:13:40.118Z"
   },
   {
    "duration": 34,
    "start_time": "2024-07-26T03:22:20.490Z"
   },
   {
    "duration": 5,
    "start_time": "2024-07-26T03:22:26.675Z"
   },
   {
    "duration": 994,
    "start_time": "2024-07-26T03:24:48.365Z"
   },
   {
    "duration": 79,
    "start_time": "2024-07-26T03:29:23.461Z"
   },
   {
    "duration": 5,
    "start_time": "2024-07-26T03:32:36.477Z"
   },
   {
    "duration": 4,
    "start_time": "2024-07-26T03:32:52.313Z"
   },
   {
    "duration": 23,
    "start_time": "2024-07-26T03:38:38.836Z"
   },
   {
    "duration": 23,
    "start_time": "2024-07-26T03:39:28.243Z"
   },
   {
    "duration": 8,
    "start_time": "2024-07-26T03:39:36.789Z"
   },
   {
    "duration": 5088,
    "start_time": "2024-07-26T06:57:01.395Z"
   },
   {
    "duration": 901,
    "start_time": "2024-09-29T21:32:43.779Z"
   },
   {
    "duration": 166,
    "start_time": "2025-01-20T22:22:56.023Z"
   },
   {
    "duration": 14,
    "start_time": "2025-01-20T22:23:24.640Z"
   },
   {
    "duration": 2653,
    "start_time": "2025-01-20T22:34:01.297Z"
   },
   {
    "duration": 38,
    "start_time": "2025-01-20T22:34:03.953Z"
   },
   {
    "duration": 28,
    "start_time": "2025-01-20T22:34:03.993Z"
   },
   {
    "duration": 10,
    "start_time": "2025-01-20T22:34:04.022Z"
   },
   {
    "duration": 3,
    "start_time": "2025-01-20T22:34:04.034Z"
   },
   {
    "duration": 16,
    "start_time": "2025-01-20T22:34:04.038Z"
   },
   {
    "duration": 25,
    "start_time": "2025-01-20T22:34:04.055Z"
   },
   {
    "duration": 32,
    "start_time": "2025-01-20T22:34:04.081Z"
   },
   {
    "duration": 4,
    "start_time": "2025-01-20T22:34:04.115Z"
   },
   {
    "duration": 18,
    "start_time": "2025-01-20T22:34:04.121Z"
   },
   {
    "duration": 8,
    "start_time": "2025-01-20T22:34:04.140Z"
   },
   {
    "duration": 5,
    "start_time": "2025-01-20T22:34:04.149Z"
   },
   {
    "duration": 7,
    "start_time": "2025-01-20T22:34:04.155Z"
   },
   {
    "duration": 7,
    "start_time": "2025-01-20T22:34:04.165Z"
   },
   {
    "duration": 241,
    "start_time": "2025-01-20T22:34:04.211Z"
   }
  ],
  "kernelspec": {
   "display_name": "Python 3 (ipykernel)",
   "language": "python",
   "name": "python3"
  },
  "language_info": {
   "codemirror_mode": {
    "name": "ipython",
    "version": 3
   },
   "file_extension": ".py",
   "mimetype": "text/x-python",
   "name": "python",
   "nbconvert_exporter": "python",
   "pygments_lexer": "ipython3",
   "version": "3.9.6"
  },
  "toc": {
   "base_numbering": 1,
   "nav_menu": {},
   "number_sections": true,
   "sideBar": true,
   "skip_h1_title": true,
   "title_cell": "Table of Contents",
   "title_sidebar": "Contents",
   "toc_cell": false,
   "toc_position": {},
   "toc_section_display": true,
   "toc_window_display": false
  }
 },
 "nbformat": 4,
 "nbformat_minor": 2
}
